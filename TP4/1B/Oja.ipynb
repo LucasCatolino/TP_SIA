{
 "cells": [
  {
   "cell_type": "code",
   "execution_count": 1,
   "metadata": {},
   "outputs": [],
   "source": [
    "import numpy as np\n",
    "import pandas as pd"
   ]
  },
  {
   "cell_type": "code",
   "execution_count": 36,
   "metadata": {},
   "outputs": [],
   "source": [
    "class Oja:\n",
    "   \n",
    "    # init method or constructor \n",
    "    def __init__(self, dfX, epochs, learningRate):\n",
    "        self.X= self.stand(dfX)\n",
    "        #self.X = np.array(X)\n",
    "        self.w = np.random.rand(self.X[0].size)\n",
    "        self.epochs = epochs\n",
    "        self.learningRate = learningRate\n",
    "        \n",
    "    def stand(self, df):\n",
    "        toRet= pd.DataFrame()\n",
    "        for column in df:\n",
    "            df[column]= (df[column] - df[column].mean())/(df[column].std())\n",
    "        return df.to_numpy()\n",
    "   \n",
    "    # Sample Method \n",
    "    def run(self):\n",
    "        for i in range(self.epochs):\n",
    "            for x in self.X:\n",
    "                s= np.dot(x, self.w)\n",
    "                self.w= self.w + self.learningRate * s * (x - (s * self.w))\n",
    "    \n",
    "    def printX(self):\n",
    "        print(self.X)\n",
    "        \n",
    "    def printW(self):\n",
    "        print(self.w)\n",
    "        \n",
    "    def  getW(self):\n",
    "        return self.w * -1\n",
    "    \n",
    "    def getNormW(self):\n",
    "        return np.sqrt(np.inner(self.w,self.w))"
   ]
  },
  {
   "cell_type": "code",
   "execution_count": null,
   "metadata": {},
   "outputs": [],
   "source": []
  },
  {
   "cell_type": "markdown",
   "metadata": {},
   "source": [
    "Leo el .csv"
   ]
  },
  {
   "cell_type": "code",
   "execution_count": 3,
   "metadata": {},
   "outputs": [
    {
     "data": {
      "text/html": [
       "<div>\n",
       "<style scoped>\n",
       "    .dataframe tbody tr th:only-of-type {\n",
       "        vertical-align: middle;\n",
       "    }\n",
       "\n",
       "    .dataframe tbody tr th {\n",
       "        vertical-align: top;\n",
       "    }\n",
       "\n",
       "    .dataframe thead th {\n",
       "        text-align: right;\n",
       "    }\n",
       "</style>\n",
       "<table border=\"1\" class=\"dataframe\">\n",
       "  <thead>\n",
       "    <tr style=\"text-align: right;\">\n",
       "      <th></th>\n",
       "      <th>Country</th>\n",
       "      <th>Area</th>\n",
       "      <th>GDP</th>\n",
       "      <th>Inflation</th>\n",
       "      <th>Life.expect</th>\n",
       "      <th>Military</th>\n",
       "      <th>Pop.growth</th>\n",
       "      <th>Unemployment</th>\n",
       "    </tr>\n",
       "  </thead>\n",
       "  <tbody>\n",
       "    <tr>\n",
       "      <th>0</th>\n",
       "      <td>Austria</td>\n",
       "      <td>83871</td>\n",
       "      <td>41600</td>\n",
       "      <td>3.5</td>\n",
       "      <td>79.91</td>\n",
       "      <td>0.80</td>\n",
       "      <td>0.03</td>\n",
       "      <td>4.2</td>\n",
       "    </tr>\n",
       "    <tr>\n",
       "      <th>1</th>\n",
       "      <td>Belgium</td>\n",
       "      <td>30528</td>\n",
       "      <td>37800</td>\n",
       "      <td>3.5</td>\n",
       "      <td>79.65</td>\n",
       "      <td>1.30</td>\n",
       "      <td>0.06</td>\n",
       "      <td>7.2</td>\n",
       "    </tr>\n",
       "    <tr>\n",
       "      <th>2</th>\n",
       "      <td>Bulgaria</td>\n",
       "      <td>110879</td>\n",
       "      <td>13800</td>\n",
       "      <td>4.2</td>\n",
       "      <td>73.84</td>\n",
       "      <td>2.60</td>\n",
       "      <td>-0.80</td>\n",
       "      <td>9.6</td>\n",
       "    </tr>\n",
       "    <tr>\n",
       "      <th>3</th>\n",
       "      <td>Croatia</td>\n",
       "      <td>56594</td>\n",
       "      <td>18000</td>\n",
       "      <td>2.3</td>\n",
       "      <td>75.99</td>\n",
       "      <td>2.39</td>\n",
       "      <td>-0.09</td>\n",
       "      <td>17.7</td>\n",
       "    </tr>\n",
       "    <tr>\n",
       "      <th>4</th>\n",
       "      <td>Czech Republic</td>\n",
       "      <td>78867</td>\n",
       "      <td>27100</td>\n",
       "      <td>1.9</td>\n",
       "      <td>77.38</td>\n",
       "      <td>1.15</td>\n",
       "      <td>-0.13</td>\n",
       "      <td>8.5</td>\n",
       "    </tr>\n",
       "  </tbody>\n",
       "</table>\n",
       "</div>"
      ],
      "text/plain": [
       "          Country    Area    GDP  Inflation  Life.expect  Military  \\\n",
       "0         Austria   83871  41600        3.5        79.91      0.80   \n",
       "1         Belgium   30528  37800        3.5        79.65      1.30   \n",
       "2        Bulgaria  110879  13800        4.2        73.84      2.60   \n",
       "3         Croatia   56594  18000        2.3        75.99      2.39   \n",
       "4  Czech Republic   78867  27100        1.9        77.38      1.15   \n",
       "\n",
       "   Pop.growth  Unemployment  \n",
       "0        0.03           4.2  \n",
       "1        0.06           7.2  \n",
       "2       -0.80           9.6  \n",
       "3       -0.09          17.7  \n",
       "4       -0.13           8.5  "
      ]
     },
     "execution_count": 3,
     "metadata": {},
     "output_type": "execute_result"
    }
   ],
   "source": [
    "df = pd.read_csv (r'../europe.csv')\n",
    "df.head(5)"
   ]
  },
  {
   "cell_type": "markdown",
   "metadata": {},
   "source": [
    "Le saco la columna de países"
   ]
  },
  {
   "cell_type": "code",
   "execution_count": 4,
   "metadata": {},
   "outputs": [
    {
     "data": {
      "text/html": [
       "<div>\n",
       "<style scoped>\n",
       "    .dataframe tbody tr th:only-of-type {\n",
       "        vertical-align: middle;\n",
       "    }\n",
       "\n",
       "    .dataframe tbody tr th {\n",
       "        vertical-align: top;\n",
       "    }\n",
       "\n",
       "    .dataframe thead th {\n",
       "        text-align: right;\n",
       "    }\n",
       "</style>\n",
       "<table border=\"1\" class=\"dataframe\">\n",
       "  <thead>\n",
       "    <tr style=\"text-align: right;\">\n",
       "      <th></th>\n",
       "      <th>Area</th>\n",
       "      <th>GDP</th>\n",
       "      <th>Inflation</th>\n",
       "      <th>Life.expect</th>\n",
       "      <th>Military</th>\n",
       "      <th>Pop.growth</th>\n",
       "      <th>Unemployment</th>\n",
       "    </tr>\n",
       "  </thead>\n",
       "  <tbody>\n",
       "    <tr>\n",
       "      <th>0</th>\n",
       "      <td>83871</td>\n",
       "      <td>41600</td>\n",
       "      <td>3.5</td>\n",
       "      <td>79.91</td>\n",
       "      <td>0.80</td>\n",
       "      <td>0.03</td>\n",
       "      <td>4.2</td>\n",
       "    </tr>\n",
       "    <tr>\n",
       "      <th>1</th>\n",
       "      <td>30528</td>\n",
       "      <td>37800</td>\n",
       "      <td>3.5</td>\n",
       "      <td>79.65</td>\n",
       "      <td>1.30</td>\n",
       "      <td>0.06</td>\n",
       "      <td>7.2</td>\n",
       "    </tr>\n",
       "    <tr>\n",
       "      <th>2</th>\n",
       "      <td>110879</td>\n",
       "      <td>13800</td>\n",
       "      <td>4.2</td>\n",
       "      <td>73.84</td>\n",
       "      <td>2.60</td>\n",
       "      <td>-0.80</td>\n",
       "      <td>9.6</td>\n",
       "    </tr>\n",
       "    <tr>\n",
       "      <th>3</th>\n",
       "      <td>56594</td>\n",
       "      <td>18000</td>\n",
       "      <td>2.3</td>\n",
       "      <td>75.99</td>\n",
       "      <td>2.39</td>\n",
       "      <td>-0.09</td>\n",
       "      <td>17.7</td>\n",
       "    </tr>\n",
       "    <tr>\n",
       "      <th>4</th>\n",
       "      <td>78867</td>\n",
       "      <td>27100</td>\n",
       "      <td>1.9</td>\n",
       "      <td>77.38</td>\n",
       "      <td>1.15</td>\n",
       "      <td>-0.13</td>\n",
       "      <td>8.5</td>\n",
       "    </tr>\n",
       "  </tbody>\n",
       "</table>\n",
       "</div>"
      ],
      "text/plain": [
       "     Area    GDP  Inflation  Life.expect  Military  Pop.growth  Unemployment\n",
       "0   83871  41600        3.5        79.91      0.80        0.03           4.2\n",
       "1   30528  37800        3.5        79.65      1.30        0.06           7.2\n",
       "2  110879  13800        4.2        73.84      2.60       -0.80           9.6\n",
       "3   56594  18000        2.3        75.99      2.39       -0.09          17.7\n",
       "4   78867  27100        1.9        77.38      1.15       -0.13           8.5"
      ]
     },
     "execution_count": 4,
     "metadata": {},
     "output_type": "execute_result"
    }
   ],
   "source": [
    "df1= df.loc[:, df.columns != 'Country']\n",
    "df1.head(5)"
   ]
  },
  {
   "cell_type": "code",
   "execution_count": null,
   "metadata": {},
   "outputs": [],
   "source": []
  },
  {
   "cell_type": "code",
   "execution_count": null,
   "metadata": {},
   "outputs": [],
   "source": []
  },
  {
   "cell_type": "code",
   "execution_count": null,
   "metadata": {},
   "outputs": [],
   "source": []
  },
  {
   "cell_type": "code",
   "execution_count": 35,
   "metadata": {},
   "outputs": [],
   "source": [
    "epochs= 2000\n",
    "learningRate= 0.0001"
   ]
  },
  {
   "cell_type": "code",
   "execution_count": null,
   "metadata": {},
   "outputs": [],
   "source": []
  },
  {
   "cell_type": "code",
   "execution_count": 37,
   "metadata": {},
   "outputs": [
    {
     "name": "stderr",
     "output_type": "stream",
     "text": [
      "C:\\Users\\matia\\AppData\\Local\\Temp\\ipykernel_16096\\147647417.py:14: SettingWithCopyWarning: \n",
      "A value is trying to be set on a copy of a slice from a DataFrame.\n",
      "Try using .loc[row_indexer,col_indexer] = value instead\n",
      "\n",
      "See the caveats in the documentation: https://pandas.pydata.org/pandas-docs/stable/user_guide/indexing.html#returning-a-view-versus-a-copy\n",
      "  df[column]= (df[column] - df[column].mean())/(df[column].std())\n"
     ]
    }
   ],
   "source": [
    "o= Oja(df1, epochs, learningRate)\n",
    "\n",
    "o.run()\n",
    "#o.stand(df1)"
   ]
  },
  {
   "cell_type": "code",
   "execution_count": 32,
   "metadata": {
    "scrolled": true
   },
   "outputs": [
    {
     "name": "stdout",
     "output_type": "stream",
     "text": [
      "[-0.1255638   0.50044532 -0.40719719  0.48301544 -0.18753578  0.47555764\n",
      " -0.27132011]\n"
     ]
    }
   ],
   "source": [
    "o.printW()"
   ]
  },
  {
   "cell_type": "code",
   "execution_count": 18,
   "metadata": {},
   "outputs": [
    {
     "name": "stdout",
     "output_type": "stream",
     "text": [
      "[-0.13183004  0.49986113 -0.41333255  0.48431745 -0.18236893  0.47420723\n",
      " -0.26825974]\n"
     ]
    }
   ],
   "source": [
    "o.printW()"
   ]
  },
  {
   "cell_type": "code",
   "execution_count": 29,
   "metadata": {},
   "outputs": [
    {
     "name": "stdout",
     "output_type": "stream",
     "text": [
      "[-0.13183004  0.49986113 -0.41333255  0.48431745 -0.18236893  0.47420723\n",
      " -0.26825974] [ 0.13183004 -0.49986113  0.41333255 -0.48431745  0.18236893 -0.47420723\n",
      "  0.26825974]\n"
     ]
    },
    {
     "data": {
      "text/plain": [
       "1.0013699192495278"
      ]
     },
     "execution_count": 29,
     "metadata": {},
     "output_type": "execute_result"
    }
   ],
   "source": [
    "\n",
    "print(o.getW(), o.getW() * -1)\n",
    "o.getNormW()\n"
   ]
  },
  {
   "cell_type": "code",
   "execution_count": 38,
   "metadata": {},
   "outputs": [
    {
     "data": {
      "text/html": [
       "<div>\n",
       "<style scoped>\n",
       "    .dataframe tbody tr th:only-of-type {\n",
       "        vertical-align: middle;\n",
       "    }\n",
       "\n",
       "    .dataframe tbody tr th {\n",
       "        vertical-align: top;\n",
       "    }\n",
       "\n",
       "    .dataframe thead th {\n",
       "        text-align: right;\n",
       "    }\n",
       "</style>\n",
       "<table border=\"1\" class=\"dataframe\">\n",
       "  <thead>\n",
       "    <tr style=\"text-align: right;\">\n",
       "      <th></th>\n",
       "      <th>0</th>\n",
       "    </tr>\n",
       "    <tr>\n",
       "      <th>variable</th>\n",
       "      <th></th>\n",
       "    </tr>\n",
       "  </thead>\n",
       "  <tbody>\n",
       "    <tr>\n",
       "      <th>Area</th>\n",
       "      <td>0.125539</td>\n",
       "    </tr>\n",
       "    <tr>\n",
       "      <th>GDP</th>\n",
       "      <td>-0.500447</td>\n",
       "    </tr>\n",
       "    <tr>\n",
       "      <th>Inflation</th>\n",
       "      <td>0.407192</td>\n",
       "    </tr>\n",
       "    <tr>\n",
       "      <th>Life.expect</th>\n",
       "      <td>-0.483023</td>\n",
       "    </tr>\n",
       "    <tr>\n",
       "      <th>Military</th>\n",
       "      <td>0.187529</td>\n",
       "    </tr>\n",
       "    <tr>\n",
       "      <th>Pop.growth</th>\n",
       "      <td>-0.475563</td>\n",
       "    </tr>\n",
       "    <tr>\n",
       "      <th>Unemployment</th>\n",
       "      <td>0.271318</td>\n",
       "    </tr>\n",
       "  </tbody>\n",
       "</table>\n",
       "</div>"
      ],
      "text/plain": [
       "                     0\n",
       "variable              \n",
       "Area          0.125539\n",
       "GDP          -0.500447\n",
       "Inflation     0.407192\n",
       "Life.expect  -0.483023\n",
       "Military      0.187529\n",
       "Pop.growth   -0.475563\n",
       "Unemployment  0.271318"
      ]
     },
     "execution_count": 38,
     "metadata": {},
     "output_type": "execute_result"
    }
   ],
   "source": [
    "loadings = o.getW()\n",
    "loadings_df = pd.DataFrame.from_dict(loadings)\n",
    "loadings_df['variable'] = df1.columns.values\n",
    "loadings_df = loadings_df.set_index('variable')\n",
    "loadings_df"
   ]
  },
  {
   "cell_type": "code",
   "execution_count": 39,
   "metadata": {},
   "outputs": [
    {
     "name": "stdout",
     "output_type": "stream",
     "text": [
      "['Area', 'GDP', 'Inflation', 'Life.expect', 'Military', 'Pop.growth', 'Unemployment']\n",
      "[0.12553871778949555, -0.5004474857352494, 0.40719168281334883, -0.4830227651446253, 0.18752899749497057, -0.4755629860900134, 0.27131827167525796]\n"
     ]
    },
    {
     "data": {
      "image/png": "[encoded data removed]",
      "text/plain": [
       "<Figure size 1080x360 with 1 Axes>"
      ]
     },
     "metadata": {
      "needs_background": "light"
     },
     "output_type": "display_data"
    }
   ],
   "source": [
    "import matplotlib.pyplot as plt\n",
    "\n",
    "a = loadings_df[0]\n",
    "\n",
    "x = list(a.index)\n",
    "y = list(a)\n",
    "print(x)\n",
    "print(y)\n",
    "\n",
    "fig, ax = plt.subplots(figsize=(15,5))  \n",
    "width = 0.5 # the width of the bars \n",
    "ind = np.arange(len(y))  # the x locations for the groups\n",
    "\n",
    "cc=['colors']*len(y)\n",
    "for n,val in enumerate(y):\n",
    "    if val<0:\n",
    "        cc[n]='orange'\n",
    "    elif val>=0:\n",
    "        cc[n]='teal'\n",
    "\n",
    "#ax.barh(ind, y, width, color=\"blue\")\n",
    "ax.barh(ind, y, width, color=cc)\n",
    "\n",
    "ax.set_yticks(ind+width/2)\n",
    "ax.set_yticklabels(x, minor=False)\n",
    "\n",
    "\n",
    "plt.title('Analisis PC1')\n",
    "plt.xlabel('Cargas')\n",
    "plt.show()"
   ]
  },
  {
   "cell_type": "code",
   "execution_count": null,
   "metadata": {},
   "outputs": [],
   "source": []
  }
 ],
 "metadata": {
  "kernelspec": {
   "display_name": "Python 3 (ipykernel)",
   "language": "python",
   "name": "python3"
  },
  "language_info": {
   "codemirror_mode": {
    "name": "ipython",
    "version": 3
   },
   "file_extension": ".py",
   "mimetype": "text/x-python",
   "name": "python",
   "nbconvert_exporter": "python",
   "pygments_lexer": "ipython3",
   "version": "3.9.12"
  }
 },
 "nbformat": 4,
 "nbformat_minor": 2
}
