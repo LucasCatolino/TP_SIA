{
 "cells": [
  {
   "cell_type": "code",
   "execution_count": 14,
   "metadata": {},
   "outputs": [],
   "source": [
    "from Hopfield import mainHopfield\n",
    "import json\n",
    "  \n",
    "# Opening JSON file\n",
    "f = open('Ex_2.json')\n",
    "  \n",
    "# returns JSON object as \n",
    "# a dictionary\n",
    "data = json.load(f)\n",
    "  \n",
    "# Iterating through the json\n",
    "# list\n",
    "dataName= data['Exercise 2']['dataFrameName']\n",
    "data1= data['Exercise 2']['data1']\n",
    "data2= data['Exercise 2']['data2']\n",
    "data3= data['Exercise 2']['data3']\n",
    "data4= data['Exercise 2']['data4']\n",
    "testingData= data['Exercise 2']['testingData']\n",
    "noiseProb= data['Exercise 2']['noiseProb']\n",
    "  \n",
    "# Closing file\n",
    "f.close()\n",
    "\n",
    "mainHopfield(dataName, data1, data2, data3, data4, testingData, noiseProb)"
   ]
  },
  {
   "cell_type": "code",
   "execution_count": null,
   "metadata": {},
   "outputs": [],
   "source": []
  }
 ],
 "metadata": {
  "kernelspec": {
   "display_name": "Python 3",
   "language": "python",
   "name": "python3"
  },
  "language_info": {
   "codemirror_mode": {
    "name": "ipython",
    "version": 3
   },
   "file_extension": ".py",
   "mimetype": "text/x-python",
   "name": "python",
   "nbconvert_exporter": "python",
   "pygments_lexer": "ipython3",
   "version": "3.7.3"
  }
 },
 "nbformat": 4,
 "nbformat_minor": 2
}
