{
 "cells": [
  {
   "cell_type": "code",
   "execution_count": 1,
   "metadata": {},
   "outputs": [],
   "source": [
    "import pandas as pd\n",
    "import numpy as np"
   ]
  },
  {
   "cell_type": "code",
   "execution_count": 2,
   "metadata": {
    "scrolled": true
   },
   "outputs": [
    {
     "data": {
      "text/html": [
       "<div>\n",
       "<style scoped>\n",
       "    .dataframe tbody tr th:only-of-type {\n",
       "        vertical-align: middle;\n",
       "    }\n",
       "\n",
       "    .dataframe tbody tr th {\n",
       "        vertical-align: top;\n",
       "    }\n",
       "\n",
       "    .dataframe thead th {\n",
       "        text-align: right;\n",
       "    }\n",
       "</style>\n",
       "<table border=\"1\" class=\"dataframe\">\n",
       "  <thead>\n",
       "    <tr style=\"text-align: right;\">\n",
       "      <th></th>\n",
       "      <th>0</th>\n",
       "      <th>1</th>\n",
       "      <th>2</th>\n",
       "      <th>3</th>\n",
       "      <th>4</th>\n",
       "    </tr>\n",
       "  </thead>\n",
       "  <tbody>\n",
       "    <tr>\n",
       "      <th>0</th>\n",
       "      <td>1.0</td>\n",
       "      <td>1.0</td>\n",
       "      <td>1.0</td>\n",
       "      <td>1.0</td>\n",
       "      <td>1.0</td>\n",
       "    </tr>\n",
       "    <tr>\n",
       "      <th>1</th>\n",
       "      <td>1.0</td>\n",
       "      <td>-1.0</td>\n",
       "      <td>-1.0</td>\n",
       "      <td>-1.0</td>\n",
       "      <td>1.0</td>\n",
       "    </tr>\n",
       "    <tr>\n",
       "      <th>2</th>\n",
       "      <td>1.0</td>\n",
       "      <td>1.0</td>\n",
       "      <td>1.0</td>\n",
       "      <td>1.0</td>\n",
       "      <td>1.0</td>\n",
       "    </tr>\n",
       "    <tr>\n",
       "      <th>3</th>\n",
       "      <td>1.0</td>\n",
       "      <td>-1.0</td>\n",
       "      <td>-1.0</td>\n",
       "      <td>-1.0</td>\n",
       "      <td>1.0</td>\n",
       "    </tr>\n",
       "    <tr>\n",
       "      <th>4</th>\n",
       "      <td>1.0</td>\n",
       "      <td>-1.0</td>\n",
       "      <td>-1.0</td>\n",
       "      <td>-1.0</td>\n",
       "      <td>1.0</td>\n",
       "    </tr>\n",
       "    <tr>\n",
       "      <th>5</th>\n",
       "      <td>NaN</td>\n",
       "      <td>NaN</td>\n",
       "      <td>NaN</td>\n",
       "      <td>NaN</td>\n",
       "      <td>NaN</td>\n",
       "    </tr>\n",
       "    <tr>\n",
       "      <th>6</th>\n",
       "      <td>1.0</td>\n",
       "      <td>1.0</td>\n",
       "      <td>1.0</td>\n",
       "      <td>1.0</td>\n",
       "      <td>1.0</td>\n",
       "    </tr>\n",
       "    <tr>\n",
       "      <th>7</th>\n",
       "      <td>1.0</td>\n",
       "      <td>-1.0</td>\n",
       "      <td>-1.0</td>\n",
       "      <td>-1.0</td>\n",
       "      <td>1.0</td>\n",
       "    </tr>\n",
       "    <tr>\n",
       "      <th>8</th>\n",
       "      <td>1.0</td>\n",
       "      <td>1.0</td>\n",
       "      <td>1.0</td>\n",
       "      <td>1.0</td>\n",
       "      <td>1.0</td>\n",
       "    </tr>\n",
       "    <tr>\n",
       "      <th>9</th>\n",
       "      <td>1.0</td>\n",
       "      <td>-1.0</td>\n",
       "      <td>-1.0</td>\n",
       "      <td>-1.0</td>\n",
       "      <td>1.0</td>\n",
       "    </tr>\n",
       "    <tr>\n",
       "      <th>10</th>\n",
       "      <td>1.0</td>\n",
       "      <td>1.0</td>\n",
       "      <td>1.0</td>\n",
       "      <td>1.0</td>\n",
       "      <td>1.0</td>\n",
       "    </tr>\n",
       "    <tr>\n",
       "      <th>11</th>\n",
       "      <td>NaN</td>\n",
       "      <td>NaN</td>\n",
       "      <td>NaN</td>\n",
       "      <td>NaN</td>\n",
       "      <td>NaN</td>\n",
       "    </tr>\n",
       "  </tbody>\n",
       "</table>\n",
       "</div>"
      ],
      "text/plain": [
       "      0    1    2    3    4\n",
       "0   1.0  1.0  1.0  1.0  1.0\n",
       "1   1.0 -1.0 -1.0 -1.0  1.0\n",
       "2   1.0  1.0  1.0  1.0  1.0\n",
       "3   1.0 -1.0 -1.0 -1.0  1.0\n",
       "4   1.0 -1.0 -1.0 -1.0  1.0\n",
       "5   NaN  NaN  NaN  NaN  NaN\n",
       "6   1.0  1.0  1.0  1.0  1.0\n",
       "7   1.0 -1.0 -1.0 -1.0  1.0\n",
       "8   1.0  1.0  1.0  1.0  1.0\n",
       "9   1.0 -1.0 -1.0 -1.0  1.0\n",
       "10  1.0  1.0  1.0  1.0  1.0\n",
       "11  NaN  NaN  NaN  NaN  NaN"
      ]
     },
     "execution_count": 2,
     "metadata": {},
     "output_type": "execute_result"
    }
   ],
   "source": [
    "df= pd.read_csv(r'letras.txt', sep='\\t', skiprows=0, header=None)\n",
    "df.head(12)"
   ]
  },
  {
   "cell_type": "markdown",
   "metadata": {},
   "source": [
    "Paso las matrices a vectores "
   ]
  },
  {
   "cell_type": "code",
   "execution_count": 3,
   "metadata": {},
   "outputs": [
    {
     "name": "stdout",
     "output_type": "stream",
     "text": [
      "L:  [1, -1, -1, -1, -1, 1, -1, -1, -1, -1, 1, -1, -1, -1, -1, 1, -1, -1, -1, -1, 1, 1, 1, 1, 1]\n",
      "P:  [1, 1, 1, 1, 1, 1, -1, -1, -1, 1, 1, 1, 1, 1, 1, 1, -1, -1, -1, -1, 1, -1, -1, -1, -1]\n",
      "T:  [1, 1, 1, 1, 1, -1, -1, 1, -1, -1, -1, -1, 1, -1, -1, -1, -1, 1, -1, -1, -1, -1, 1, -1, -1]\n",
      "X:  [1, -1, -1, -1, 1, -1, 1, -1, 1, -1, -1, -1, 1, -1, -1, -1, 1, -1, 1, -1, 1, -1, -1, -1, 1]\n"
     ]
    }
   ],
   "source": [
    "data= []\n",
    "toAdd= []\n",
    "for index, row in df.iterrows():\n",
    "    for column in df:\n",
    "        number= row[column]\n",
    "        if (not pd.isna(number)):\n",
    "            toAdd.append(int(number))\n",
    "        else:\n",
    "            data.append(toAdd)\n",
    "            toAdd=[]\n",
    "            break\n",
    "\n",
    "print(\"L: \", data[11])\n",
    "print(\"P: \", data[15])\n",
    "print(\"T: \", data[19])\n",
    "print(\"X: \", data[23])"
   ]
  },
  {
   "cell_type": "markdown",
   "metadata": {},
   "source": [
    "Analizo la ortogonalidad de los vectores (más cercano a 0 significa más ortogonales)"
   ]
  },
  {
   "cell_type": "code",
   "execution_count": 24,
   "metadata": {},
   "outputs": [
    {
     "name": "stdout",
     "output_type": "stream",
     "text": [
      "L, X:  1\n",
      "L, T:  -3\n",
      "L, P:  -1\n",
      "X, T:  1\n",
      "X, P:  -5\n",
      "T, P:  3\n"
     ]
    }
   ],
   "source": [
    "print(\"L, X: \", np.dot(data[11], data[23]))\n",
    "print(\"L, T: \", np.dot(data[11], data[19]))\n",
    "print(\"L, P: \", np.dot(data[11], data[15]))\n",
    "\n",
    "print(\"X, T: \", np.dot(data[23], data[19]))\n",
    "print(\"X, P: \", np.dot(data[23], data[15]))\n",
    "\n",
    "print(\"T, P: \", np.dot(data[19], data[15]))"
   ]
  },
  {
   "cell_type": "code",
   "execution_count": 25,
   "metadata": {},
   "outputs": [
    {
     "name": "stdout",
     "output_type": "stream",
     "text": [
      "O Q:  23\n"
     ]
    }
   ],
   "source": [
    "print(\"O Q: \", np.dot(data[14], data[16]))"
   ]
  },
  {
   "cell_type": "code",
   "execution_count": 33,
   "metadata": {},
   "outputs": [],
   "source": [
    "class Hopfield:\n",
    "   \n",
    "    # init method or constructor \n",
    "    def __init__(self, data):\n",
    "        self.W= self.calculateSynapticWeight(data)\n",
    "        \n",
    "    def calculateSynapticWeight(self, data):\n",
    "        firstRow= data.pop(0)\n",
    "        Kt= np.array([firstRow])\n",
    "        while len(data) > 0:\n",
    "            newRow= np.array(data.pop(0))\n",
    "            Kt= np.concatenate([Kt, [newRow]])\n",
    "        K= Kt.T\n",
    "        \n",
    "        N= len(firstRow)\n",
    "        w= (1/N) * np.dot(K, Kt)\n",
    "        \n",
    "        #Diagonal is zero\n",
    "        for i in range(len(w)):\n",
    "            w[i][i]= 0\n",
    "        \n",
    "        return w\n",
    "   \n",
    "    # Sample Method \n",
    "    def run(self, S):\n",
    "        file = open(\"Hopfield.out\", \"w\") \n",
    "        i= 0\n",
    "        prevS= S\n",
    "        \n",
    "        file.write(str(prevS))\n",
    "        file.write(\"\\n\")\n",
    "        \n",
    "        actS= self.prodW(prevS)\n",
    "        while (not np.array_equal(prevS, actS) and i < 5000000):\n",
    "            i= i+1\n",
    "            prevS= actS;\n",
    "            \n",
    "            file.write(\"Epoch: \")\n",
    "            file.write(str(i))\n",
    "            file.write(\"\\n\")\n",
    "            file.write(str(prevS))\n",
    "            file.write(\"\\n\")\n",
    "            \n",
    "            actS= self.prodW(prevS)\n",
    "            \n",
    "        file.write(\"Epoch: \") \n",
    "        file.write(str(i))\n",
    "        file.write(\"\\n\")\n",
    "        file.write(str(actS))\n",
    "        file.write(\"\\n\")        \n",
    "        file.close()\n",
    "        \n",
    "        return(actS)\n",
    "    \n",
    "    def printW(self):\n",
    "        print(self.W)\n",
    "        \n",
    "    def prodW(self, S):\n",
    "        return np.sign(np.dot(self.W, S)).astype(int)"
   ]
  },
  {
   "cell_type": "code",
   "execution_count": 34,
   "metadata": {},
   "outputs": [],
   "source": [
    "toHop= [data[11], data[15], data[19], data[23]]\n",
    "h= Hopfield(toHop)"
   ]
  },
  {
   "cell_type": "markdown",
   "metadata": {},
   "source": [
    "Pruebo mandando un elemento de los guardados, y debería devolver el mismo en 0 iteraciones:"
   ]
  },
  {
   "cell_type": "code",
   "execution_count": 35,
   "metadata": {},
   "outputs": [
    {
     "name": "stdout",
     "output_type": "stream",
     "text": [
      "[1, -1, -1, -1, -1, 1, -1, -1, -1, -1, 1, -1, -1, -1, -1, 1, -1, -1, -1, -1, 1, 1, 1, 1, 1]\n",
      "[ 1 -1 -1 -1 -1  1 -1 -1 -1 -1  1 -1 -1 -1 -1  1 -1 -1 -1 -1  1  1  1  1\n",
      "  1]\n"
     ]
    }
   ],
   "source": [
    "print(data[11])\n",
    "a= h.run(data[11])\n",
    "print(a)"
   ]
  },
  {
   "cell_type": "markdown",
   "metadata": {},
   "source": [
    "Pruebo cambiando levemente un elemento guardado, y debería devolver el mismo en un par de iteraciones:"
   ]
  },
  {
   "cell_type": "code",
   "execution_count": 36,
   "metadata": {},
   "outputs": [
    {
     "name": "stdout",
     "output_type": "stream",
     "text": [
      "[1, -1, -1, -1, -1, 1, -1, -1, -1, -1, 1, -1, -1, -1, -1, 1, -1, -1, -1, -1, 1, 1, 1, 1, 1]\n",
      "[ 1 -1 -1 -1 -1  1 -1 -1 -1 -1  1 -1 -1 -1 -1  1 -1 -1 -1 -1  1  1  1  1\n",
      "  1]\n"
     ]
    }
   ],
   "source": [
    "print(data[11])\n",
    "a= h.run([1, 1, 1, 1, 1, 1, -1, -1, -1, -1, 1, -1, -1, -1, -1, -1, -1, -1, -1, -1, 1, -1, 1, 1, 1])\n",
    "print(a)"
   ]
  },
  {
   "cell_type": "markdown",
   "metadata": {},
   "source": [
    "Pruebo ingresando la Y, que es parecida a la X:"
   ]
  },
  {
   "cell_type": "code",
   "execution_count": 35,
   "metadata": {},
   "outputs": [
    {
     "name": "stdout",
     "output_type": "stream",
     "text": [
      "[1, -1, -1, -1, 1, -1, 1, -1, 1, -1, -1, -1, 1, -1, -1, -1, 1, -1, 1, -1, 1, -1, -1, -1, 1]\n",
      "4\n",
      "[ 1. -1. -1. -1.  1. -1.  1. -1.  1. -1. -1. -1.  1. -1. -1. -1.  1. -1.\n",
      "  1. -1.  1. -1. -1. -1.  1.]\n"
     ]
    }
   ],
   "source": [
    "print(data[23])\n",
    "a= h.run(data[24])\n",
    "print(a)"
   ]
  },
  {
   "cell_type": "code",
   "execution_count": null,
   "metadata": {},
   "outputs": [],
   "source": []
  },
  {
   "cell_type": "code",
   "execution_count": 37,
   "metadata": {},
   "outputs": [
    {
     "name": "stdout",
     "output_type": "stream",
     "text": [
      "[ 1 -1 -1 -1 -1  1 -1 -1 -1 -1  1 -1 -1 -1 -1  1 -1 -1 -1 -1  1  1  1  1\n",
      "  1]\n",
      "[ 1  1  1  1  1  1 -1 -1 -1  1  1  1  1  1  1  1 -1 -1 -1 -1  1 -1 -1 -1\n",
      " -1]\n"
     ]
    }
   ],
   "source": [
    "L = np.array([1, -1, -1, -1, -1, 1, -1, -1, -1, -1, 1, -1, -1, -1, -1, 1, -1, -1, -1, -1, 1, 1, 1, 1, 1])\n",
    "P= np.array([1, 1, 1, 1, 1, 1, -1, -1, -1, 1, 1, 1, 1, 1, 1, 1, -1, -1, -1, -1, 1, -1, -1, -1, -1])\n",
    "print(L)\n",
    "print(P)"
   ]
  },
  {
   "cell_type": "code",
   "execution_count": 38,
   "metadata": {},
   "outputs": [
    {
     "name": "stdout",
     "output_type": "stream",
     "text": [
      "[[ 1 -1 -1 -1 -1  1 -1 -1 -1 -1  1 -1 -1 -1 -1  1 -1 -1 -1 -1  1  1  1  1\n",
      "   1]]\n",
      "\n",
      "[[ 1 -1 -1 -1 -1  1 -1 -1 -1 -1  1 -1 -1 -1 -1  1 -1 -1 -1 -1  1  1  1  1\n",
      "   1]\n",
      " [ 1  1  1  1  1  1 -1 -1 -1  1  1  1  1  1  1  1 -1 -1 -1 -1  1 -1 -1 -1\n",
      "  -1]]\n"
     ]
    }
   ],
   "source": [
    "matrix= np.array([L])\n",
    "print(matrix)\n",
    "print()\n",
    "matrix= np.concatenate([matrix, [P]])\n",
    "print(matrix)"
   ]
  },
  {
   "cell_type": "code",
   "execution_count": 39,
   "metadata": {},
   "outputs": [
    {
     "name": "stdout",
     "output_type": "stream",
     "text": [
      "[1, -1, -1, -1, -1, 1, -1, -1, -1, -1, 1, -1, -1, -1, -1, 1, -1, -1, -1, -1, 1, 1, 1, 1, 1]\n"
     ]
    }
   ],
   "source": [
    "toSend= [data[11], data[15], data[19], data[23]]\n",
    "print(toSend[0])"
   ]
  },
  {
   "cell_type": "code",
   "execution_count": 18,
   "metadata": {},
   "outputs": [
    {
     "name": "stdout",
     "output_type": "stream",
     "text": [
      "[]\n",
      "[[ 1 -1 -1 -1 -1  1 -1 -1 -1 -1  1 -1 -1 -1 -1  1 -1 -1 -1 -1  1  1  1  1\n",
      "   1]\n",
      " [ 1  1  1  1  1  1 -1 -1 -1  1  1  1  1  1  1  1 -1 -1 -1 -1  1 -1 -1 -1\n",
      "  -1]\n",
      " [ 1  1  1  1  1 -1 -1  1 -1 -1 -1 -1  1 -1 -1 -1 -1  1 -1 -1 -1 -1  1 -1\n",
      "  -1]\n",
      " [ 1 -1 -1 -1  1 -1  1 -1  1 -1 -1 -1  1 -1 -1 -1  1 -1  1 -1  1 -1 -1 -1\n",
      "   1]]\n",
      "[[ 1  1  1  1]\n",
      " [-1  1  1 -1]\n",
      " [-1  1  1 -1]\n",
      " [-1  1  1 -1]\n",
      " [-1  1  1  1]\n",
      " [ 1  1 -1 -1]\n",
      " [-1 -1 -1  1]\n",
      " [-1 -1  1 -1]\n",
      " [-1 -1 -1  1]\n",
      " [-1  1 -1 -1]\n",
      " [ 1  1 -1 -1]\n",
      " [-1  1 -1 -1]\n",
      " [-1  1  1  1]\n",
      " [-1  1 -1 -1]\n",
      " [-1  1 -1 -1]\n",
      " [ 1  1 -1 -1]\n",
      " [-1 -1 -1  1]\n",
      " [-1 -1  1 -1]\n",
      " [-1 -1 -1  1]\n",
      " [-1 -1 -1 -1]\n",
      " [ 1  1 -1  1]\n",
      " [ 1 -1 -1 -1]\n",
      " [ 1 -1  1 -1]\n",
      " [ 1 -1 -1 -1]\n",
      " [ 1 -1 -1  1]]\n"
     ]
    }
   ],
   "source": [
    "toSend= [data[11], data[15], data[19], data[23]]\n",
    "Kt= np.array([toSend.pop(0)])\n",
    "while len(toSend) > 0:\n",
    "    newRow= np.array(toSend.pop(0))\n",
    "    Kt= np.concatenate([Kt, [newRow]])\n",
    "K= Kt.T\n",
    "\n",
    "print(toSend)\n",
    "print(Kt)\n",
    "print(K)"
   ]
  },
  {
   "cell_type": "code",
   "execution_count": 19,
   "metadata": {},
   "outputs": [
    {
     "name": "stdout",
     "output_type": "stream",
     "text": [
      "25\n"
     ]
    }
   ],
   "source": [
    "toSend= [data[11], data[15], data[19], data[23]]\n",
    "print(len(toSend.pop(0)))"
   ]
  },
  {
   "cell_type": "code",
   "execution_count": 47,
   "metadata": {},
   "outputs": [],
   "source": [
    "def noisyData(data, prob):\n",
    "    toRet= []\n",
    "    for i in range(len(data)):\n",
    "        rand= np.random.rand()\n",
    "        if (rand < prob):\n",
    "            toRet.append(data[i] * -1)\n",
    "        else:\n",
    "            toRet.append(data[i])\n",
    "    return toRet\n",
    "\n",
    "toTest= noisyData(data[20], 0.4)"
   ]
  },
  {
   "cell_type": "code",
   "execution_count": 48,
   "metadata": {},
   "outputs": [
    {
     "name": "stdout",
     "output_type": "stream",
     "text": [
      "[1, -1, -1, -1, 1, 1, -1, -1, -1, 1, 1, -1, -1, -1, 1, 1, -1, -1, -1, 1, 1, 1, 1, 1, 1]\n",
      "[1, 1, -1, -1, 1, 1, 1, -1, 1, -1, 1, 1, 1, -1, 1, 1, -1, 1, -1, 1, 1, 1, 1, 1, 1]\n"
     ]
    }
   ],
   "source": [
    "print(data[20])\n",
    "print(toTest)"
   ]
  },
  {
   "cell_type": "code",
   "execution_count": 49,
   "metadata": {},
   "outputs": [
    {
     "data": {
      "text/plain": [
       "array([ 1, -1, -1, -1, -1,  1, -1, -1, -1, -1,  1, -1, -1, -1, -1,  1, -1,\n",
       "       -1, -1, -1,  1,  1,  1,  1,  1])"
      ]
     },
     "execution_count": 49,
     "metadata": {},
     "output_type": "execute_result"
    }
   ],
   "source": [
    "h.run(toTest)"
   ]
  },
  {
   "cell_type": "code",
   "execution_count": null,
   "metadata": {},
   "outputs": [],
   "source": []
  }
 ],
 "metadata": {
  "kernelspec": {
   "display_name": "Python 3",
   "language": "python",
   "name": "python3"
  },
  "language_info": {
   "codemirror_mode": {
    "name": "ipython",
    "version": 3
   },
   "file_extension": ".py",
   "mimetype": "text/x-python",
   "name": "python",
   "nbconvert_exporter": "python",
   "pygments_lexer": "ipython3",
   "version": "3.7.3"
  }
 },
 "nbformat": 4,
 "nbformat_minor": 2
}
