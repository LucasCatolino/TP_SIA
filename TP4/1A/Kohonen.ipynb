{
 "cells": [
  {
   "cell_type": "markdown",
   "metadata": {},
   "source": [
    "#### Imports..."
   ]
  },
  {
   "cell_type": "code",
   "execution_count": 2,
   "metadata": {},
   "outputs": [],
   "source": [
    "import numpy as np\n",
    "import matplotlib.pyplot as plt\n",
    "from sklearn import datasets\n",
    "from sklearn.decomposition import PCA\n",
    "import pandas as pd\n",
    "from sklearn.preprocessing import StandardScaler\n",
    "from bioinfokit.analys import get_data\n",
    "from bioinfokit.visuz import cluster\n",
    "import warnings\n",
    "warnings.filterwarnings(\"ignore\")\n"
   ]
  },
  {
   "cell_type": "code",
   "execution_count": 3,
   "metadata": {},
   "outputs": [
    {
     "data": {
      "text/html": [
       "<div>\n",
       "<style scoped>\n",
       "    .dataframe tbody tr th:only-of-type {\n",
       "        vertical-align: middle;\n",
       "    }\n",
       "\n",
       "    .dataframe tbody tr th {\n",
       "        vertical-align: top;\n",
       "    }\n",
       "\n",
       "    .dataframe thead th {\n",
       "        text-align: right;\n",
       "    }\n",
       "</style>\n",
       "<table border=\"1\" class=\"dataframe\">\n",
       "  <thead>\n",
       "    <tr style=\"text-align: right;\">\n",
       "      <th></th>\n",
       "      <th>Country</th>\n",
       "      <th>Area</th>\n",
       "      <th>GDP</th>\n",
       "      <th>Inflation</th>\n",
       "      <th>Life.expect</th>\n",
       "      <th>Military</th>\n",
       "      <th>Pop.growth</th>\n",
       "      <th>Unemployment</th>\n",
       "    </tr>\n",
       "  </thead>\n",
       "  <tbody>\n",
       "    <tr>\n",
       "      <th>0</th>\n",
       "      <td>Austria</td>\n",
       "      <td>83871</td>\n",
       "      <td>41600</td>\n",
       "      <td>3.5</td>\n",
       "      <td>79.91</td>\n",
       "      <td>0.8</td>\n",
       "      <td>0.03</td>\n",
       "      <td>4.2</td>\n",
       "    </tr>\n",
       "    <tr>\n",
       "      <th>1</th>\n",
       "      <td>Belgium</td>\n",
       "      <td>30528</td>\n",
       "      <td>37800</td>\n",
       "      <td>3.5</td>\n",
       "      <td>79.65</td>\n",
       "      <td>1.3</td>\n",
       "      <td>0.06</td>\n",
       "      <td>7.2</td>\n",
       "    </tr>\n",
       "    <tr>\n",
       "      <th>2</th>\n",
       "      <td>Bulgaria</td>\n",
       "      <td>110879</td>\n",
       "      <td>13800</td>\n",
       "      <td>4.2</td>\n",
       "      <td>73.84</td>\n",
       "      <td>2.6</td>\n",
       "      <td>-0.80</td>\n",
       "      <td>9.6</td>\n",
       "    </tr>\n",
       "  </tbody>\n",
       "</table>\n",
       "</div>"
      ],
      "text/plain": [
       "    Country    Area    GDP  Inflation  Life.expect  Military  Pop.growth  \\\n",
       "0   Austria   83871  41600        3.5        79.91       0.8        0.03   \n",
       "1   Belgium   30528  37800        3.5        79.65       1.3        0.06   \n",
       "2  Bulgaria  110879  13800        4.2        73.84       2.6       -0.80   \n",
       "\n",
       "   Unemployment  \n",
       "0           4.2  \n",
       "1           7.2  \n",
       "2           9.6  "
      ]
     },
     "execution_count": 3,
     "metadata": {},
     "output_type": "execute_result"
    }
   ],
   "source": [
    "df= pd.read_csv (r'../europe.csv')\n",
    "df.head(3)"
   ]
  },
  {
   "cell_type": "code",
   "execution_count": 4,
   "metadata": {},
   "outputs": [
    {
     "data": {
      "text/html": [
       "<div>\n",
       "<style scoped>\n",
       "    .dataframe tbody tr th:only-of-type {\n",
       "        vertical-align: middle;\n",
       "    }\n",
       "\n",
       "    .dataframe tbody tr th {\n",
       "        vertical-align: top;\n",
       "    }\n",
       "\n",
       "    .dataframe thead th {\n",
       "        text-align: right;\n",
       "    }\n",
       "</style>\n",
       "<table border=\"1\" class=\"dataframe\">\n",
       "  <thead>\n",
       "    <tr style=\"text-align: right;\">\n",
       "      <th></th>\n",
       "      <th>Area</th>\n",
       "      <th>GDP</th>\n",
       "      <th>Inflation</th>\n",
       "      <th>Life.expect</th>\n",
       "      <th>Military</th>\n",
       "      <th>Pop.growth</th>\n",
       "      <th>Unemployment</th>\n",
       "    </tr>\n",
       "  </thead>\n",
       "  <tbody>\n",
       "    <tr>\n",
       "      <th>0</th>\n",
       "      <td>-0.507835</td>\n",
       "      <td>0.683900</td>\n",
       "      <td>0.114447</td>\n",
       "      <td>0.570778</td>\n",
       "      <td>-1.024347</td>\n",
       "      <td>-0.176789</td>\n",
       "      <td>-1.245527</td>\n",
       "    </tr>\n",
       "    <tr>\n",
       "      <th>1</th>\n",
       "      <td>-0.835987</td>\n",
       "      <td>0.417061</td>\n",
       "      <td>0.114447</td>\n",
       "      <td>0.487756</td>\n",
       "      <td>-0.388952</td>\n",
       "      <td>-0.115927</td>\n",
       "      <td>-0.592442</td>\n",
       "    </tr>\n",
       "    <tr>\n",
       "      <th>2</th>\n",
       "      <td>-0.341689</td>\n",
       "      <td>-1.268238</td>\n",
       "      <td>0.624255</td>\n",
       "      <td>-1.367473</td>\n",
       "      <td>1.263074</td>\n",
       "      <td>-1.860631</td>\n",
       "      <td>-0.069973</td>\n",
       "    </tr>\n",
       "  </tbody>\n",
       "</table>\n",
       "</div>"
      ],
      "text/plain": [
       "       Area       GDP  Inflation  Life.expect  Military  Pop.growth  \\\n",
       "0 -0.507835  0.683900   0.114447     0.570778 -1.024347   -0.176789   \n",
       "1 -0.835987  0.417061   0.114447     0.487756 -0.388952   -0.115927   \n",
       "2 -0.341689 -1.268238   0.624255    -1.367473  1.263074   -1.860631   \n",
       "\n",
       "   Unemployment  \n",
       "0     -1.245527  \n",
       "1     -0.592442  \n",
       "2     -0.069973  "
      ]
     },
     "execution_count": 4,
     "metadata": {},
     "output_type": "execute_result"
    }
   ],
   "source": [
    "#Estandarizo los datos\n",
    "df_countries= df[\"Country\"]\n",
    "df_stand=  StandardScaler().fit_transform(df[[\"Area\", \"GDP\", \"Inflation\", \"Life.expect\", \"Military\", \"Pop.growth\", \"Unemployment\"]])\n",
    "df_stand= pd.DataFrame(df_stand, columns=df[[\"Area\", \"GDP\", \"Inflation\", \"Life.expect\", \"Military\", \"Pop.growth\", \"Unemployment\"]].columns)\n",
    "df_stand.head(3)"
   ]
  },
  {
   "cell_type": "markdown",
   "metadata": {},
   "source": [
    "### Variables"
   ]
  },
  {
   "cell_type": "code",
   "execution_count": 11,
   "metadata": {},
   "outputs": [],
   "source": [
    "k = 3\n",
    "n = 7\n",
    "radius = 6\n",
    "learning_rate = 0.9"
   ]
  },
  {
   "cell_type": "code",
   "execution_count": 60,
   "metadata": {},
   "outputs": [
    {
     "data": {
      "text/plain": [
       "[[0, 1, 2, 3], [4, 5, 6, 7], [8, 9, 10, 11], [12, 13, 14, 15]]"
      ]
     },
     "execution_count": 60,
     "metadata": {},
     "output_type": "execute_result"
    }
   ],
   "source": [
    "#example\n",
    "weights = [[i+j*k for i in range(k)] for j in range(k)]\n",
    "#starts weights with values from 0 to k*k, like this:\n",
    "#[[0, 1, 2],\n",
    "# [3, 4, 5],\n",
    "# [6, 7, 8]]\n",
    "\n",
    "weights"
   ]
  },
  {
   "cell_type": "markdown",
   "metadata": {},
   "source": [
    "```reloading our functions...```"
   ]
  },
  {
   "cell_type": "code",
   "execution_count": 6,
   "metadata": {},
   "outputs": [],
   "source": [
    "%load_ext autoreload"
   ]
  },
  {
   "cell_type": "code",
   "execution_count": 7,
   "metadata": {},
   "outputs": [],
   "source": [
    "%autoreload 2\n"
   ]
  },
  {
   "cell_type": "markdown",
   "metadata": {},
   "source": [
    "what are neighbors?"
   ]
  },
  {
   "cell_type": "code",
   "execution_count": 46,
   "metadata": {},
   "outputs": [
    {
     "name": "stdout",
     "output_type": "stream",
     "text": [
      "[0, 0] [0, 1] [0, 2] [0, 3] \n",
      "\n",
      "[1, 0] [1, 1] [1, 2] [1, 3] \n",
      "\n",
      "[2, 0] [2, 1] [2, 2] [2, 3] \n",
      "\n",
      "[3, 0] [3, 1] [3, 2] [3, 3] \n",
      "\n",
      "[(0, 1), (2, 1), (1, 0), (1, 2)]\n",
      "1.0\n",
      "1.0\n"
     ]
    }
   ],
   "source": [
    "from utils import get_avg_distance, get_neighbors_avg_dst, get_neighbors\n",
    "test_mat = [ [[0, 0],[0,1],[0,2],[0,3]],[[1,0],[1,1],[1,2],[1,3]],[[2,0],[2,1],[2,2],[2,3]], [[3,0],[3,1],[3,2],[3,3]]]\n",
    "for i in range(4):\n",
    "    for j in range(4):\n",
    "        print(test_mat[i][j], end=\" \")\n",
    "    print('\\n')\n",
    "\n",
    "print(get_neighbors(test_mat, 1,1))\n",
    "print(get_neighbors_avg_dst(1,1, test_mat))\n",
    "print(get_avg_distance(test_mat))"
   ]
  },
  {
   "cell_type": "markdown",
   "metadata": {},
   "source": [
    "### `the loop`"
   ]
  },
  {
   "cell_type": "code",
   "execution_count": 61,
   "metadata": {},
   "outputs": [
    {
     "data": {
      "image/png": "[encoded data removed]",
      "text/plain": [
       "<Figure size 432x288 with 1 Axes>"
      ]
     },
     "metadata": {
      "needs_background": "light"
     },
     "output_type": "display_data"
    },
    {
     "name": "stdout",
     "output_type": "stream",
     "text": [
      "Distancia promedio entre neuronas vecinas (iter final): 3.0709651263652837\n"
     ]
    }
   ],
   "source": [
    "from utils import init_weights, init_weights_from_data, get_winner_neuron, get_active_neurons, update_weights\n",
    "import matplotlib.pyplot as plt\n",
    "\n",
    "epochs = 100\n",
    "data_count = len(df_stand.index)\n",
    "max_t = epochs * data_count\n",
    "t = 0\n",
    "\n",
    "w = init_weights_from_data(k, n, df_stand, data_count)\n",
    "\n",
    "\n",
    "#plotting array\n",
    "points = np.array([[0 for i in range(k)] for j in range(k)])\n",
    "\n",
    "\n",
    "for e in range(epochs):\n",
    "    points = [[0 for i in range(k)] for j in range(k)]\n",
    "    \n",
    "    for p in range(data_count):\n",
    "        #get sample from data\n",
    "        x_p = df_stand.iloc[[p]][[\"Area\", \"GDP\", \"Inflation\", \"Life.expect\", \"Military\", \"Pop.growth\", \"Unemployment\"]].to_numpy()\n",
    "\n",
    "        #find winner neuron\n",
    "        closest_info = get_winner_neuron(w, x_p, k)\n",
    "\n",
    "        points[closest_info['x']][ closest_info['y']] += 1\n",
    "\n",
    "        #neuronas activadas\n",
    "        N_k = get_active_neurons(w, k, closest_info['x'], closest_info['y'], radius)\n",
    "\n",
    "        #actualizar pesos\n",
    "        w = update_weights(w, x_p, N_k, learning_rate)\n",
    "\n",
    "        #update radius and learning_rate\n",
    "        radius = np.floor((max_t - t*1.2) * radius/max_t) + 1\n",
    "        learning_rate = 1 / (t+1)\n",
    "        t += 1\n",
    "\n",
    "#plotting the final heatmap...\n",
    "fig, ax = plt.subplots()\n",
    "im = ax.imshow(points, vmin=0, vmax=28)\n",
    "# Loop over data dimensions and create text annotations.\n",
    "for i in range(k):\n",
    "    for j in range(k):\n",
    "        if points[i][j] <= 20: \n",
    "            text = ax.text(j, i, points[i][j], ha=\"center\", va=\"center\", color=\"w\")\n",
    "        else:\n",
    "            text = ax.text(j, i, points[i][j], ha=\"center\", va=\"center\", color=\"b\")\n",
    "\n",
    "ax.set_title(\"Cantidad de elementos asociados a cada neurona\")\n",
    "fig.tight_layout()\n",
    "plt.show()\n",
    "\n",
    "\n",
    "#calculate avg neighbors distance for final iter...\n",
    "print(\"Distancia promedio entre neuronas vecinas (iter final):\", get_avg_distance(w))\n"
   ]
  }
 ],
 "metadata": {
  "interpreter": {
   "hash": "52c95d02f1bfe7c59da35d3ff8fa76f7d162251a8bf0068369a0a87df4b3e5e7"
  },
  "kernelspec": {
   "display_name": "Python 3.10.4 64-bit",
   "language": "python",
   "name": "python3"
  },
  "language_info": {
   "codemirror_mode": {
    "name": "ipython",
    "version": 3
   },
   "file_extension": ".py",
   "mimetype": "text/x-python",
   "name": "python",
   "nbconvert_exporter": "python",
   "pygments_lexer": "ipython3",
   "version": "3.10.4"
  },
  "orig_nbformat": 4
 },
 "nbformat": 4,
 "nbformat_minor": 2
}
