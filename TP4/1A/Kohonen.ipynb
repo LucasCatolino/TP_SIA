{
 "cells": [
  {
   "cell_type": "markdown",
   "metadata": {},
   "source": [
    "#### Imports..."
   ]
  },
  {
   "cell_type": "code",
   "execution_count": 33,
   "metadata": {},
   "outputs": [],
   "source": [
    "import numpy as np\n",
    "import matplotlib.pyplot as plt\n",
    "from sklearn import datasets\n",
    "from sklearn.decomposition import PCA\n",
    "import pandas as pd\n",
    "from sklearn.preprocessing import StandardScaler\n",
    "from bioinfokit.analys import get_data\n",
    "from bioinfokit.visuz import cluster\n",
    "import warnings\n",
    "warnings.filterwarnings(\"ignore\")\n"
   ]
  },
  {
   "cell_type": "code",
   "execution_count": 34,
   "metadata": {},
   "outputs": [
    {
     "data": {
      "text/html": [
       "<div>\n",
       "<style scoped>\n",
       "    .dataframe tbody tr th:only-of-type {\n",
       "        vertical-align: middle;\n",
       "    }\n",
       "\n",
       "    .dataframe tbody tr th {\n",
       "        vertical-align: top;\n",
       "    }\n",
       "\n",
       "    .dataframe thead th {\n",
       "        text-align: right;\n",
       "    }\n",
       "</style>\n",
       "<table border=\"1\" class=\"dataframe\">\n",
       "  <thead>\n",
       "    <tr style=\"text-align: right;\">\n",
       "      <th></th>\n",
       "      <th>Country</th>\n",
       "      <th>Area</th>\n",
       "      <th>GDP</th>\n",
       "      <th>Inflation</th>\n",
       "      <th>Life.expect</th>\n",
       "      <th>Military</th>\n",
       "      <th>Pop.growth</th>\n",
       "      <th>Unemployment</th>\n",
       "    </tr>\n",
       "  </thead>\n",
       "  <tbody>\n",
       "    <tr>\n",
       "      <th>0</th>\n",
       "      <td>Austria</td>\n",
       "      <td>83871</td>\n",
       "      <td>41600</td>\n",
       "      <td>3.5</td>\n",
       "      <td>79.91</td>\n",
       "      <td>0.8</td>\n",
       "      <td>0.03</td>\n",
       "      <td>4.2</td>\n",
       "    </tr>\n",
       "    <tr>\n",
       "      <th>1</th>\n",
       "      <td>Belgium</td>\n",
       "      <td>30528</td>\n",
       "      <td>37800</td>\n",
       "      <td>3.5</td>\n",
       "      <td>79.65</td>\n",
       "      <td>1.3</td>\n",
       "      <td>0.06</td>\n",
       "      <td>7.2</td>\n",
       "    </tr>\n",
       "    <tr>\n",
       "      <th>2</th>\n",
       "      <td>Bulgaria</td>\n",
       "      <td>110879</td>\n",
       "      <td>13800</td>\n",
       "      <td>4.2</td>\n",
       "      <td>73.84</td>\n",
       "      <td>2.6</td>\n",
       "      <td>-0.80</td>\n",
       "      <td>9.6</td>\n",
       "    </tr>\n",
       "  </tbody>\n",
       "</table>\n",
       "</div>"
      ],
      "text/plain": [
       "    Country    Area    GDP  Inflation  Life.expect  Military  Pop.growth  \\\n",
       "0   Austria   83871  41600        3.5        79.91       0.8        0.03   \n",
       "1   Belgium   30528  37800        3.5        79.65       1.3        0.06   \n",
       "2  Bulgaria  110879  13800        4.2        73.84       2.6       -0.80   \n",
       "\n",
       "   Unemployment  \n",
       "0           4.2  \n",
       "1           7.2  \n",
       "2           9.6  "
      ]
     },
     "execution_count": 34,
     "metadata": {},
     "output_type": "execute_result"
    }
   ],
   "source": [
    "df= pd.read_csv (r'../europe.csv')\n",
    "df.head(3)"
   ]
  },
  {
   "cell_type": "code",
   "execution_count": 46,
   "metadata": {},
   "outputs": [
    {
     "data": {
      "text/html": [
       "<div>\n",
       "<style scoped>\n",
       "    .dataframe tbody tr th:only-of-type {\n",
       "        vertical-align: middle;\n",
       "    }\n",
       "\n",
       "    .dataframe tbody tr th {\n",
       "        vertical-align: top;\n",
       "    }\n",
       "\n",
       "    .dataframe thead th {\n",
       "        text-align: right;\n",
       "    }\n",
       "</style>\n",
       "<table border=\"1\" class=\"dataframe\">\n",
       "  <thead>\n",
       "    <tr style=\"text-align: right;\">\n",
       "      <th></th>\n",
       "      <th>Area</th>\n",
       "      <th>GDP</th>\n",
       "      <th>Inflation</th>\n",
       "      <th>Life.expect</th>\n",
       "      <th>Military</th>\n",
       "      <th>Pop.growth</th>\n",
       "      <th>Unemployment</th>\n",
       "    </tr>\n",
       "  </thead>\n",
       "  <tbody>\n",
       "    <tr>\n",
       "      <th>0</th>\n",
       "      <td>-0.507835</td>\n",
       "      <td>0.683900</td>\n",
       "      <td>0.114447</td>\n",
       "      <td>0.570778</td>\n",
       "      <td>-1.024347</td>\n",
       "      <td>-0.176789</td>\n",
       "      <td>-1.245527</td>\n",
       "    </tr>\n",
       "    <tr>\n",
       "      <th>1</th>\n",
       "      <td>-0.835987</td>\n",
       "      <td>0.417061</td>\n",
       "      <td>0.114447</td>\n",
       "      <td>0.487756</td>\n",
       "      <td>-0.388952</td>\n",
       "      <td>-0.115927</td>\n",
       "      <td>-0.592442</td>\n",
       "    </tr>\n",
       "    <tr>\n",
       "      <th>2</th>\n",
       "      <td>-0.341689</td>\n",
       "      <td>-1.268238</td>\n",
       "      <td>0.624255</td>\n",
       "      <td>-1.367473</td>\n",
       "      <td>1.263074</td>\n",
       "      <td>-1.860631</td>\n",
       "      <td>-0.069973</td>\n",
       "    </tr>\n",
       "  </tbody>\n",
       "</table>\n",
       "</div>"
      ],
      "text/plain": [
       "       Area       GDP  Inflation  Life.expect  Military  Pop.growth  \\\n",
       "0 -0.507835  0.683900   0.114447     0.570778 -1.024347   -0.176789   \n",
       "1 -0.835987  0.417061   0.114447     0.487756 -0.388952   -0.115927   \n",
       "2 -0.341689 -1.268238   0.624255    -1.367473  1.263074   -1.860631   \n",
       "\n",
       "   Unemployment  \n",
       "0     -1.245527  \n",
       "1     -0.592442  \n",
       "2     -0.069973  "
      ]
     },
     "execution_count": 46,
     "metadata": {},
     "output_type": "execute_result"
    }
   ],
   "source": [
    "#Estandarizo los datos\n",
    "df_countries= df[\"Country\"]\n",
    "df_stand=  StandardScaler().fit_transform(df[[\"Area\", \"GDP\", \"Inflation\", \"Life.expect\", \"Military\", \"Pop.growth\", \"Unemployment\"]])\n",
    "df_stand= pd.DataFrame(df_stand, columns=df[[\"Area\", \"GDP\", \"Inflation\", \"Life.expect\", \"Military\", \"Pop.growth\", \"Unemployment\"]].columns)\n",
    "df_stand.head(3)"
   ]
  },
  {
   "cell_type": "markdown",
   "metadata": {},
   "source": [
    "### Variables"
   ]
  },
  {
   "cell_type": "code",
   "execution_count": 35,
   "metadata": {},
   "outputs": [],
   "source": [
    "k = 3\n",
    "n = 7\n",
    "radius = 6\n",
    "learning_rate = 0.9"
   ]
  },
  {
   "cell_type": "code",
   "execution_count": 36,
   "metadata": {},
   "outputs": [
    {
     "data": {
      "text/plain": [
       "[[0, 1, 2], [3, 4, 5], [6, 7, 8]]"
      ]
     },
     "execution_count": 36,
     "metadata": {},
     "output_type": "execute_result"
    }
   ],
   "source": [
    "#example\n",
    "weights = [[i+j*k for i in range(k)] for j in range(k)]\n",
    "#starts weights with values from 0 to k*k, like this:\n",
    "#[[0, 1, 2],\n",
    "# [3, 4, 5],\n",
    "# [6, 7, 8]]\n",
    "\n",
    "weights"
   ]
  },
  {
   "cell_type": "code",
   "execution_count": 37,
   "metadata": {},
   "outputs": [
    {
     "name": "stdout",
     "output_type": "stream",
     "text": [
      "The autoreload extension is already loaded. To reload it, use:\n",
      "  %reload_ext autoreload\n"
     ]
    }
   ],
   "source": [
    "%load_ext autoreload"
   ]
  },
  {
   "cell_type": "code",
   "execution_count": 38,
   "metadata": {},
   "outputs": [],
   "source": [
    "%autoreload 2\n"
   ]
  },
  {
   "cell_type": "code",
   "execution_count": 39,
   "metadata": {},
   "outputs": [
    {
     "data": {
      "text/plain": [
       "[[[-0.4681262276018987, 0.5883070296593316, -0.4745310936624263, 0, 0, 0, 0],\n",
       "  [0.09792960582393384, -0.6573852465771775, -0.591126786386031, 1, 1, 1, 1],\n",
       "  [0.800379895636987, 0.1850923328545817, 0.7396443260775278, 2, 2, 2, 2]],\n",
       " [[-0.10658617614882449, -0.8641124205376478, 0.742145151137688, 3, 3, 3, 3],\n",
       "  [0.020723200335942327, 0.39522824322366334, 0.13297389152493255, 4, 4, 4, 4],\n",
       "  [-0.9478890691356248, 0.5475782527368545, -0.7257735534392851, 5, 5, 5, 5]],\n",
       " [[-0.5022876697002796, 0.5170551265442107, 0.905972128953999, 6, 6, 6, 6],\n",
       "  [0.672979370860882, -0.24825443496902988, 0.8937188546543591, 7, 7, 7, 7],\n",
       "  [-0.36758710710245524,\n",
       "   -0.8354734615497954,\n",
       "   -0.00883877482620199,\n",
       "   8,\n",
       "   8,\n",
       "   8,\n",
       "   8]]]"
      ]
     },
     "execution_count": 39,
     "metadata": {},
     "output_type": "execute_result"
    }
   ],
   "source": [
    "from utils import init_weights\n",
    "\n",
    "w = init_weights(k,n) #random starting weights...\n",
    "w"
   ]
  },
  {
   "cell_type": "markdown",
   "metadata": {},
   "source": [
    "### `the loop`"
   ]
  },
  {
   "cell_type": "code",
   "execution_count": 50,
   "metadata": {},
   "outputs": [
    {
     "name": "stdout",
     "output_type": "stream",
     "text": [
      "[-0.4681262276018987, 0.5883070296593316, -0.4745310936624263, 0, 0, 0, 0] [-0.4681262276018987, 0.5883070296593316, -0.4745310936624263, 0, 0, 0, 0]\n",
      "[-0.4681262276018987, 0.5883070296593316, -0.4745310936624263, 0, 0, 0, 0] [-0.4681262276018987, 0.5883070296593316, -0.4745310936624263, 0, 0, 0, 0]\n",
      "[-0.4681262276018987, 0.5883070296593316, -0.4745310936624263, 0, 0, 0, 0] [-0.4681262276018987, 0.5883070296593316, -0.4745310936624263, 0, 0, 0, 0]\n",
      "[0.09792960582393384, -0.6573852465771775, -0.591126786386031, 1, 1, 1, 1] [-0.4681262276018987, 0.5883070296593316, -0.4745310936624263, 0, 0, 0, 0]\n",
      "[-0.4681262276018987, 0.5883070296593316, -0.4745310936624263, 0, 0, 0, 0] [-0.4681262276018987, 0.5883070296593316, -0.4745310936624263, 0, 0, 0, 0]\n",
      "[-0.4681262276018987, 0.5883070296593316, -0.4745310936624263, 0, 0, 0, 0] [-0.4681262276018987, 0.5883070296593316, -0.4745310936624263, 0, 0, 0, 0]\n",
      "[-0.4681262276018987, 0.5883070296593316, -0.4745310936624263, 0, 0, 0, 0] [-0.4681262276018987, 0.5883070296593316, -0.4745310936624263, 0, 0, 0, 0]\n",
      "[-0.4681262276018987, 0.5883070296593316, -0.4745310936624263, 0, 0, 0, 0] [-0.4681262276018987, 0.5883070296593316, -0.4745310936624263, 0, 0, 0, 0]\n",
      "[-0.4681262276018987, 0.5883070296593316, -0.4745310936624263, 0, 0, 0, 0] [-0.4681262276018987, 0.5883070296593316, -0.4745310936624263, 0, 0, 0, 0]\n",
      "[0.09792960582393384, -0.6573852465771775, -0.591126786386031, 1, 1, 1, 1] [-0.4681262276018987, 0.5883070296593316, -0.4745310936624263, 0, 0, 0, 0]\n",
      "[-0.4681262276018987, 0.5883070296593316, -0.4745310936624263, 0, 0, 0, 0] [-0.4681262276018987, 0.5883070296593316, -0.4745310936624263, 0, 0, 0, 0]\n",
      "[-0.4681262276018987, 0.5883070296593316, -0.4745310936624263, 0, 0, 0, 0] [-0.4681262276018987, 0.5883070296593316, -0.4745310936624263, 0, 0, 0, 0]\n",
      "[-0.4681262276018987, 0.5883070296593316, -0.4745310936624263, 0, 0, 0, 0] [-0.4681262276018987, 0.5883070296593316, -0.4745310936624263, 0, 0, 0, 0]\n",
      "[0.09792960582393384, -0.6573852465771775, -0.591126786386031, 1, 1, 1, 1] [-0.4681262276018987, 0.5883070296593316, -0.4745310936624263, 0, 0, 0, 0]\n",
      "[-0.4681262276018987, 0.5883070296593316, -0.4745310936624263, 0, 0, 0, 0] [-0.4681262276018987, 0.5883070296593316, -0.4745310936624263, 0, 0, 0, 0]\n",
      "[-0.4681262276018987, 0.5883070296593316, -0.4745310936624263, 0, 0, 0, 0] [-0.4681262276018987, 0.5883070296593316, -0.4745310936624263, 0, 0, 0, 0]\n",
      "[-0.4681262276018987, 0.5883070296593316, -0.4745310936624263, 0, 0, 0, 0] [-0.4681262276018987, 0.5883070296593316, -0.4745310936624263, 0, 0, 0, 0]\n",
      "[-0.4681262276018987, 0.5883070296593316, -0.4745310936624263, 0, 0, 0, 0] [-0.4681262276018987, 0.5883070296593316, -0.4745310936624263, 0, 0, 0, 0]\n",
      "[-0.4681262276018987, 0.5883070296593316, -0.4745310936624263, 0, 0, 0, 0] [-0.4681262276018987, 0.5883070296593316, -0.4745310936624263, 0, 0, 0, 0]\n",
      "[-0.4681262276018987, 0.5883070296593316, -0.4745310936624263, 0, 0, 0, 0] [-0.4681262276018987, 0.5883070296593316, -0.4745310936624263, 0, 0, 0, 0]\n",
      "[0.09792960582393384, -0.6573852465771775, -0.591126786386031, 1, 1, 1, 1] [-0.4681262276018987, 0.5883070296593316, -0.4745310936624263, 0, 0, 0, 0]\n",
      "[-0.4681262276018987, 0.5883070296593316, -0.4745310936624263, 0, 0, 0, 0] [-0.4681262276018987, 0.5883070296593316, -0.4745310936624263, 0, 0, 0, 0]\n",
      "[-0.4681262276018987, 0.5883070296593316, -0.4745310936624263, 0, 0, 0, 0] [-0.4681262276018987, 0.5883070296593316, -0.4745310936624263, 0, 0, 0, 0]\n",
      "[0.09792960582393384, -0.6573852465771775, -0.591126786386031, 1, 1, 1, 1] [-0.4681262276018987, 0.5883070296593316, -0.4745310936624263, 0, 0, 0, 0]\n",
      "[-0.4681262276018987, 0.5883070296593316, -0.4745310936624263, 0, 0, 0, 0] [-0.4681262276018987, 0.5883070296593316, -0.4745310936624263, 0, 0, 0, 0]\n",
      "[-0.4681262276018987, 0.5883070296593316, -0.4745310936624263, 0, 0, 0, 0] [-0.4681262276018987, 0.5883070296593316, -0.4745310936624263, 0, 0, 0, 0]\n",
      "[-0.4681262276018987, 0.5883070296593316, -0.4745310936624263, 0, 0, 0, 0] [-0.4681262276018987, 0.5883070296593316, -0.4745310936624263, 0, 0, 0, 0]\n",
      "[0.09792960582393384, -0.6573852465771775, -0.591126786386031, 1, 1, 1, 1] [-0.4681262276018987, 0.5883070296593316, -0.4745310936624263, 0, 0, 0, 0]\n"
     ]
    }
   ],
   "source": [
    "from utils import get_winner_neuron\n",
    "\n",
    "epochs = 1\n",
    "\n",
    "for e in range(epochs):\n",
    "    for p in range(len(df.index)):\n",
    "        x_p = df_stand.iloc[[p]][[\"Area\", \"GDP\", \"Inflation\", \"Life.expect\", \"Military\", \"Pop.growth\", \"Unemployment\"]].to_numpy()\n",
    "\n",
    "        w_j = get_winner_neuron(w, x_p, k)\n",
    "        #print(w_j, w[0][0])\n",
    "\n",
    "        #mostrar estado de activacion de las neuronas (???)\n",
    "\n",
    "        #actualizar pesos"
   ]
  }
 ],
 "metadata": {
  "interpreter": {
   "hash": "52c95d02f1bfe7c59da35d3ff8fa76f7d162251a8bf0068369a0a87df4b3e5e7"
  },
  "kernelspec": {
   "display_name": "Python 3.10.4 64-bit",
   "language": "python",
   "name": "python3"
  },
  "language_info": {
   "codemirror_mode": {
    "name": "ipython",
    "version": 3
   },
   "file_extension": ".py",
   "mimetype": "text/x-python",
   "name": "python",
   "nbconvert_exporter": "python",
   "pygments_lexer": "ipython3",
   "version": "3.10.4"
  },
  "orig_nbformat": 4
 },
 "nbformat": 4,
 "nbformat_minor": 2
}
