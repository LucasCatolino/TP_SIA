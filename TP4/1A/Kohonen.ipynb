{
 "cells": [
  {
   "cell_type": "markdown",
   "metadata": {},
   "source": [
    "#### Imports..."
   ]
  },
  {
   "cell_type": "code",
   "execution_count": 33,
   "metadata": {},
   "outputs": [],
   "source": [
    "import numpy as np\n",
    "import matplotlib.pyplot as plt\n",
    "from sklearn import datasets\n",
    "from sklearn.decomposition import PCA\n",
    "import pandas as pd\n",
    "from sklearn.preprocessing import StandardScaler\n",
    "from bioinfokit.analys import get_data\n",
    "from bioinfokit.visuz import cluster\n",
    "import warnings\n",
    "warnings.filterwarnings(\"ignore\")\n"
   ]
  },
  {
   "cell_type": "code",
   "execution_count": 34,
   "metadata": {},
   "outputs": [
    {
     "data": {
      "text/html": [
       "<div>\n",
       "<style scoped>\n",
       "    .dataframe tbody tr th:only-of-type {\n",
       "        vertical-align: middle;\n",
       "    }\n",
       "\n",
       "    .dataframe tbody tr th {\n",
       "        vertical-align: top;\n",
       "    }\n",
       "\n",
       "    .dataframe thead th {\n",
       "        text-align: right;\n",
       "    }\n",
       "</style>\n",
       "<table border=\"1\" class=\"dataframe\">\n",
       "  <thead>\n",
       "    <tr style=\"text-align: right;\">\n",
       "      <th></th>\n",
       "      <th>Country</th>\n",
       "      <th>Area</th>\n",
       "      <th>GDP</th>\n",
       "      <th>Inflation</th>\n",
       "      <th>Life.expect</th>\n",
       "      <th>Military</th>\n",
       "      <th>Pop.growth</th>\n",
       "      <th>Unemployment</th>\n",
       "    </tr>\n",
       "  </thead>\n",
       "  <tbody>\n",
       "    <tr>\n",
       "      <th>0</th>\n",
       "      <td>Austria</td>\n",
       "      <td>83871</td>\n",
       "      <td>41600</td>\n",
       "      <td>3.5</td>\n",
       "      <td>79.91</td>\n",
       "      <td>0.8</td>\n",
       "      <td>0.03</td>\n",
       "      <td>4.2</td>\n",
       "    </tr>\n",
       "    <tr>\n",
       "      <th>1</th>\n",
       "      <td>Belgium</td>\n",
       "      <td>30528</td>\n",
       "      <td>37800</td>\n",
       "      <td>3.5</td>\n",
       "      <td>79.65</td>\n",
       "      <td>1.3</td>\n",
       "      <td>0.06</td>\n",
       "      <td>7.2</td>\n",
       "    </tr>\n",
       "    <tr>\n",
       "      <th>2</th>\n",
       "      <td>Bulgaria</td>\n",
       "      <td>110879</td>\n",
       "      <td>13800</td>\n",
       "      <td>4.2</td>\n",
       "      <td>73.84</td>\n",
       "      <td>2.6</td>\n",
       "      <td>-0.80</td>\n",
       "      <td>9.6</td>\n",
       "    </tr>\n",
       "  </tbody>\n",
       "</table>\n",
       "</div>"
      ],
      "text/plain": [
       "    Country    Area    GDP  Inflation  Life.expect  Military  Pop.growth  \\\n",
       "0   Austria   83871  41600        3.5        79.91       0.8        0.03   \n",
       "1   Belgium   30528  37800        3.5        79.65       1.3        0.06   \n",
       "2  Bulgaria  110879  13800        4.2        73.84       2.6       -0.80   \n",
       "\n",
       "   Unemployment  \n",
       "0           4.2  \n",
       "1           7.2  \n",
       "2           9.6  "
      ]
     },
     "execution_count": 34,
     "metadata": {},
     "output_type": "execute_result"
    }
   ],
   "source": [
    "df= pd.read_csv (r'../europe.csv')\n",
    "df.head(3)"
   ]
  },
  {
   "cell_type": "code",
   "execution_count": 46,
   "metadata": {},
   "outputs": [
    {
     "data": {
      "text/html": [
       "<div>\n",
       "<style scoped>\n",
       "    .dataframe tbody tr th:only-of-type {\n",
       "        vertical-align: middle;\n",
       "    }\n",
       "\n",
       "    .dataframe tbody tr th {\n",
       "        vertical-align: top;\n",
       "    }\n",
       "\n",
       "    .dataframe thead th {\n",
       "        text-align: right;\n",
       "    }\n",
       "</style>\n",
       "<table border=\"1\" class=\"dataframe\">\n",
       "  <thead>\n",
       "    <tr style=\"text-align: right;\">\n",
       "      <th></th>\n",
       "      <th>Area</th>\n",
       "      <th>GDP</th>\n",
       "      <th>Inflation</th>\n",
       "      <th>Life.expect</th>\n",
       "      <th>Military</th>\n",
       "      <th>Pop.growth</th>\n",
       "      <th>Unemployment</th>\n",
       "    </tr>\n",
       "  </thead>\n",
       "  <tbody>\n",
       "    <tr>\n",
       "      <th>0</th>\n",
       "      <td>-0.507835</td>\n",
       "      <td>0.683900</td>\n",
       "      <td>0.114447</td>\n",
       "      <td>0.570778</td>\n",
       "      <td>-1.024347</td>\n",
       "      <td>-0.176789</td>\n",
       "      <td>-1.245527</td>\n",
       "    </tr>\n",
       "    <tr>\n",
       "      <th>1</th>\n",
       "      <td>-0.835987</td>\n",
       "      <td>0.417061</td>\n",
       "      <td>0.114447</td>\n",
       "      <td>0.487756</td>\n",
       "      <td>-0.388952</td>\n",
       "      <td>-0.115927</td>\n",
       "      <td>-0.592442</td>\n",
       "    </tr>\n",
       "    <tr>\n",
       "      <th>2</th>\n",
       "      <td>-0.341689</td>\n",
       "      <td>-1.268238</td>\n",
       "      <td>0.624255</td>\n",
       "      <td>-1.367473</td>\n",
       "      <td>1.263074</td>\n",
       "      <td>-1.860631</td>\n",
       "      <td>-0.069973</td>\n",
       "    </tr>\n",
       "  </tbody>\n",
       "</table>\n",
       "</div>"
      ],
      "text/plain": [
       "       Area       GDP  Inflation  Life.expect  Military  Pop.growth  \\\n",
       "0 -0.507835  0.683900   0.114447     0.570778 -1.024347   -0.176789   \n",
       "1 -0.835987  0.417061   0.114447     0.487756 -0.388952   -0.115927   \n",
       "2 -0.341689 -1.268238   0.624255    -1.367473  1.263074   -1.860631   \n",
       "\n",
       "   Unemployment  \n",
       "0     -1.245527  \n",
       "1     -0.592442  \n",
       "2     -0.069973  "
      ]
     },
     "execution_count": 46,
     "metadata": {},
     "output_type": "execute_result"
    }
   ],
   "source": [
    "#Estandarizo los datos\n",
    "df_countries= df[\"Country\"]\n",
    "df_stand=  StandardScaler().fit_transform(df[[\"Area\", \"GDP\", \"Inflation\", \"Life.expect\", \"Military\", \"Pop.growth\", \"Unemployment\"]])\n",
    "df_stand= pd.DataFrame(df_stand, columns=df[[\"Area\", \"GDP\", \"Inflation\", \"Life.expect\", \"Military\", \"Pop.growth\", \"Unemployment\"]].columns)\n",
    "df_stand.head(3)"
   ]
  },
  {
   "cell_type": "markdown",
   "metadata": {},
   "source": [
    "### Variables"
   ]
  },
  {
   "cell_type": "code",
   "execution_count": 59,
   "metadata": {},
   "outputs": [],
   "source": [
    "k = 4\n",
    "n = 7\n",
    "radius = 6\n",
    "learning_rate = 0.9"
   ]
  },
  {
   "cell_type": "code",
   "execution_count": 60,
   "metadata": {},
   "outputs": [
    {
     "data": {
      "text/plain": [
       "[[0, 1, 2, 3], [4, 5, 6, 7], [8, 9, 10, 11], [12, 13, 14, 15]]"
      ]
     },
     "execution_count": 60,
     "metadata": {},
     "output_type": "execute_result"
    }
   ],
   "source": [
    "#example\n",
    "weights = [[i+j*k for i in range(k)] for j in range(k)]\n",
    "#starts weights with values from 0 to k*k, like this:\n",
    "#[[0, 1, 2],\n",
    "# [3, 4, 5],\n",
    "# [6, 7, 8]]\n",
    "\n",
    "weights"
   ]
  },
  {
   "cell_type": "code",
   "execution_count": 37,
   "metadata": {},
   "outputs": [
    {
     "name": "stdout",
     "output_type": "stream",
     "text": [
      "The autoreload extension is already loaded. To reload it, use:\n",
      "  %reload_ext autoreload\n"
     ]
    }
   ],
   "source": [
    "%load_ext autoreload"
   ]
  },
  {
   "cell_type": "code",
   "execution_count": 38,
   "metadata": {},
   "outputs": [],
   "source": [
    "%autoreload 2\n"
   ]
  },
  {
   "cell_type": "code",
   "execution_count": 61,
   "metadata": {},
   "outputs": [
    {
     "data": {
      "text/plain": [
       "[[[-0.9502310579261237,\n",
       "   0.3837254388152356,\n",
       "   0.8294394269012506,\n",
       "   0.49085628689553773,\n",
       "   0,\n",
       "   0,\n",
       "   0],\n",
       "  [0.306094110026635,\n",
       "   -0.6779389503821465,\n",
       "   -0.9716375107905479,\n",
       "   0.7057745151699608,\n",
       "   1,\n",
       "   1,\n",
       "   1],\n",
       "  [-0.24622722749818382,\n",
       "   -0.09249127426660908,\n",
       "   -0.2713501271513812,\n",
       "   -0.05026864777051898,\n",
       "   2,\n",
       "   2,\n",
       "   2],\n",
       "  [-0.7718420742936525,\n",
       "   -0.042466851292776164,\n",
       "   -0.9931858130782771,\n",
       "   -0.05224077924546289,\n",
       "   3,\n",
       "   3,\n",
       "   3]],\n",
       " [[0.04443319930360956,\n",
       "   -0.734977449892841,\n",
       "   0.3346282420127167,\n",
       "   0.7794637458244187,\n",
       "   4,\n",
       "   4,\n",
       "   4],\n",
       "  [0.34631625534569443,\n",
       "   0.21789144199742405,\n",
       "   0.7491355140860092,\n",
       "   0.544504569240827,\n",
       "   5,\n",
       "   5,\n",
       "   5],\n",
       "  [-0.48680374750906585,\n",
       "   -0.7440822049949958,\n",
       "   -0.24516459634683696,\n",
       "   -0.33144305615297154,\n",
       "   6,\n",
       "   6,\n",
       "   6],\n",
       "  [-0.5206395221825793,\n",
       "   0.4858015813779901,\n",
       "   -0.9703020984453814,\n",
       "   -0.19326372163755523,\n",
       "   7,\n",
       "   7,\n",
       "   7]],\n",
       " [[0.1671207236234089,\n",
       "   0.47343845102632387,\n",
       "   0.1656595025199934,\n",
       "   -0.7823244273247818,\n",
       "   8,\n",
       "   8,\n",
       "   8],\n",
       "  [0.1781972431881631,\n",
       "   -0.48622744999719303,\n",
       "   0.12884826684626827,\n",
       "   -0.4211383451694106,\n",
       "   9,\n",
       "   9,\n",
       "   9],\n",
       "  [0.5980718776122613,\n",
       "   0.3561106357130144,\n",
       "   0.3971497559493977,\n",
       "   0.5635055513793825,\n",
       "   10,\n",
       "   10,\n",
       "   10],\n",
       "  [0.3251262375482271,\n",
       "   -0.5315082841518823,\n",
       "   0.73228138886293,\n",
       "   -0.7238686466194624,\n",
       "   11,\n",
       "   11,\n",
       "   11]],\n",
       " [[-0.679087518608023,\n",
       "   -0.7884362806525196,\n",
       "   0.8671815584242426,\n",
       "   0.1785533964676591,\n",
       "   12,\n",
       "   12,\n",
       "   12],\n",
       "  [0.23239074516126035,\n",
       "   -0.9827699396652292,\n",
       "   -0.2798329348171178,\n",
       "   -0.4490935530245961,\n",
       "   13,\n",
       "   13,\n",
       "   13],\n",
       "  [-0.6649369308222364,\n",
       "   0.5045707174921903,\n",
       "   0.5390920367186696,\n",
       "   -0.6757666304066907,\n",
       "   14,\n",
       "   14,\n",
       "   14],\n",
       "  [0.3703719242110708,\n",
       "   0.48226035096919273,\n",
       "   0.6240861426590059,\n",
       "   -0.8941399441138964,\n",
       "   15,\n",
       "   15,\n",
       "   15]]]"
      ]
     },
     "execution_count": 61,
     "metadata": {},
     "output_type": "execute_result"
    }
   ],
   "source": [
    "from utils import init_weights\n",
    "\n",
    "w = init_weights(k,n) #random starting weights...\n",
    "w"
   ]
  },
  {
   "cell_type": "markdown",
   "metadata": {},
   "source": [
    "### `the loop`"
   ]
  },
  {
   "cell_type": "code",
   "execution_count": 64,
   "metadata": {},
   "outputs": [
    {
     "name": "stdout",
     "output_type": "stream",
     "text": [
      "[[[-0.9502310579261237, 0.3837254388152356, 0.8294394269012506, 0.49085628689553773, 0, 0, 0], [0.306094110026635, -0.6779389503821465, -0.9716375107905479, 0.7057745151699608, 1, 1, 1], [-0.24622722749818382, -0.09249127426660908, -0.2713501271513812, -0.05026864777051898, 2, 2, 2], [-0.7718420742936525, -0.042466851292776164, -0.9931858130782771, -0.05224077924546289, 3, 3, 3]], [[0.04443319930360956, -0.734977449892841, 0.3346282420127167, 0.7794637458244187, 4, 4, 4], [0.34631625534569443, 0.21789144199742405, 0.7491355140860092, 0.544504569240827, 5, 5, 5], [-0.48680374750906585, -0.7440822049949958, -0.24516459634683696, -0.33144305615297154, 6, 6, 6], [-0.5206395221825793, 0.4858015813779901, -0.9703020984453814, -0.19326372163755523, 7, 7, 7]], [[0.1671207236234089, 0.47343845102632387, 0.1656595025199934, -0.7823244273247818, 8, 8, 8], [0.1781972431881631, -0.48622744999719303, 0.12884826684626827, -0.4211383451694106, 9, 9, 9], [0.5980718776122613, 0.3561106357130144, 0.3971497559493977, 0.5635055513793825, 10, 10, 10], [0.3251262375482271, -0.5315082841518823, 0.73228138886293, -0.7238686466194624, 11, 11, 11]], [[-0.679087518608023, -0.7884362806525196, 0.8671815584242426, 0.1785533964676591, 12, 12, 12], [0.23239074516126035, -0.9827699396652292, -0.2798329348171178, -0.4490935530245961, 13, 13, 13], [-0.6649369308222364, 0.5045707174921903, 0.5390920367186696, -0.6757666304066907, 14, 14, 14], [0.3703719242110708, 0.48226035096919273, 0.6240861426590059, -0.8941399441138964, 15, 15, 15]]]\n"
     ]
    },
    {
     "data": {
      "image/png": "[encoded data removed]",
      "text/plain": [
       "<Figure size 432x288 with 1 Axes>"
      ]
     },
     "metadata": {
      "needs_background": "light"
     },
     "output_type": "display_data"
    },
    {
     "name": "stdout",
     "output_type": "stream",
     "text": [
      "[[[-0.9502310579261237, 0.3837254388152356, 0.8294394269012506, 0.49085628689553773, 0, 0, 0], [0.306094110026635, -0.6779389503821465, -0.9716375107905479, 0.7057745151699608, 1, 1, 1], [-0.24622722749818382, -0.09249127426660908, -0.2713501271513812, -0.05026864777051898, 2, 2, 2], [-0.7718420742936525, -0.042466851292776164, -0.9931858130782771, -0.05224077924546289, 3, 3, 3]], [[0.04443319930360956, -0.734977449892841, 0.3346282420127167, 0.7794637458244187, 4, 4, 4], [0.34631625534569443, 0.21789144199742405, 0.7491355140860092, 0.544504569240827, 5, 5, 5], [-0.48680374750906585, -0.7440822049949958, -0.24516459634683696, -0.33144305615297154, 6, 6, 6], [-0.5206395221825793, 0.4858015813779901, -0.9703020984453814, -0.19326372163755523, 7, 7, 7]], [[0.1671207236234089, 0.47343845102632387, 0.1656595025199934, -0.7823244273247818, 8, 8, 8], [0.1781972431881631, -0.48622744999719303, 0.12884826684626827, -0.4211383451694106, 9, 9, 9], [0.5980718776122613, 0.3561106357130144, 0.3971497559493977, 0.5635055513793825, 10, 10, 10], [0.3251262375482271, -0.5315082841518823, 0.73228138886293, -0.7238686466194624, 11, 11, 11]], [[-0.679087518608023, -0.7884362806525196, 0.8671815584242426, 0.1785533964676591, 12, 12, 12], [0.23239074516126035, -0.9827699396652292, -0.2798329348171178, -0.4490935530245961, 13, 13, 13], [-0.6649369308222364, 0.5045707174921903, 0.5390920367186696, -0.6757666304066907, 14, 14, 14], [0.3703719242110708, 0.48226035096919273, 0.6240861426590059, -0.8941399441138964, 15, 15, 15]]]\n"
     ]
    }
   ],
   "source": [
    "from utils import get_winner_neuron, get_active_neurons, update_weights\n",
    "\n",
    "import matplotlib.pyplot as plt\n",
    "\n",
    "epochs = 100\n",
    "data_count = len(df_stand.index)\n",
    "max_t = epochs * data_count\n",
    "t = 0\n",
    "print(w)\n",
    "\n",
    "#plotting stuff that is probably wrong\n",
    "points = weights = [[(i, j) for i in range(k)] for j in range(k)]\n",
    "x = list(map(lambda x: x[0], points))\n",
    "y = list(map(lambda y: x[1], points))\n",
    "plt.grid(True)\n",
    "\n",
    "for e in range(epochs):\n",
    "    for p in range(data_count):\n",
    "        t += 1\n",
    "\n",
    "        x_p = df_stand.iloc[[p]][[\"Area\", \"GDP\", \"Inflation\", \"Life.expect\", \"Military\", \"Pop.growth\", \"Unemployment\"]].to_numpy()\n",
    "\n",
    "        closest_info = get_winner_neuron(w, x_p, k)\n",
    "        #print(closest_info, w[0][0])\n",
    "\n",
    "        #neuronas activadas\n",
    "        N_k = get_active_neurons(w, k, closest_info['x'], closest_info['y'], radius)\n",
    "\n",
    "        #actualizar pesos\n",
    "        w = update_weights(w, k, x_p, N_k, learning_rate)\n",
    "\n",
    "        #update radius and learning_rate\n",
    "        radius = np.floor((max_t - t*1.2) * radius/max_t) + 1\n",
    "        learning_rate = 1 / t\n",
    "\n",
    "#plt update how do i even do this help me\n",
    "plt.scatter(x, y, c=x)\n",
    "plt.pause(0.05)\n",
    "\n",
    "print(w)"
   ]
  }
 ],
 "metadata": {
  "interpreter": {
   "hash": "52c95d02f1bfe7c59da35d3ff8fa76f7d162251a8bf0068369a0a87df4b3e5e7"
  },
  "kernelspec": {
   "display_name": "Python 3.10.4 64-bit",
   "language": "python",
   "name": "python3"
  },
  "language_info": {
   "codemirror_mode": {
    "name": "ipython",
    "version": 3
   },
   "file_extension": ".py",
   "mimetype": "text/x-python",
   "name": "python",
   "nbconvert_exporter": "python",
   "pygments_lexer": "ipython3",
   "version": "3.10.4"
  },
  "orig_nbformat": 4
 },
 "nbformat": 4,
 "nbformat_minor": 2
}
