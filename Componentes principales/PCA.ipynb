{
 "cells": [
  {
   "cell_type": "code",
   "execution_count": 58,
   "metadata": {},
   "outputs": [],
   "source": [
    "import numpy as np\n",
    "import matplotlib.pyplot as plt\n",
    "from sklearn import datasets\n",
    "from sklearn.decomposition import PCA\n",
    "import pandas as pd\n",
    "from sklearn.preprocessing import StandardScaler\n",
    "from bioinfokit.analys import get_data\n",
    "from bioinfokit.visuz import cluster\n",
    "import warnings\n",
    "warnings.filterwarnings(\"ignore\")"
   ]
  },
  {
   "cell_type": "code",
   "execution_count": 59,
   "metadata": {
    "scrolled": true
   },
   "outputs": [
    {
     "data": {
      "text/html": [
       "<div>\n",
       "<style scoped>\n",
       "    .dataframe tbody tr th:only-of-type {\n",
       "        vertical-align: middle;\n",
       "    }\n",
       "\n",
       "    .dataframe tbody tr th {\n",
       "        vertical-align: top;\n",
       "    }\n",
       "\n",
       "    .dataframe thead th {\n",
       "        text-align: right;\n",
       "    }\n",
       "</style>\n",
       "<table border=\"1\" class=\"dataframe\">\n",
       "  <thead>\n",
       "    <tr style=\"text-align: right;\">\n",
       "      <th></th>\n",
       "      <th>Country</th>\n",
       "      <th>Area</th>\n",
       "      <th>GDP</th>\n",
       "      <th>Inflation</th>\n",
       "      <th>Life.expect</th>\n",
       "      <th>Military</th>\n",
       "      <th>Pop.growth</th>\n",
       "      <th>Unemployment</th>\n",
       "    </tr>\n",
       "  </thead>\n",
       "  <tbody>\n",
       "    <tr>\n",
       "      <th>0</th>\n",
       "      <td>Austria</td>\n",
       "      <td>83871</td>\n",
       "      <td>41600</td>\n",
       "      <td>3.5</td>\n",
       "      <td>79.91</td>\n",
       "      <td>0.8</td>\n",
       "      <td>0.03</td>\n",
       "      <td>4.2</td>\n",
       "    </tr>\n",
       "    <tr>\n",
       "      <th>1</th>\n",
       "      <td>Belgium</td>\n",
       "      <td>30528</td>\n",
       "      <td>37800</td>\n",
       "      <td>3.5</td>\n",
       "      <td>79.65</td>\n",
       "      <td>1.3</td>\n",
       "      <td>0.06</td>\n",
       "      <td>7.2</td>\n",
       "    </tr>\n",
       "    <tr>\n",
       "      <th>2</th>\n",
       "      <td>Bulgaria</td>\n",
       "      <td>110879</td>\n",
       "      <td>13800</td>\n",
       "      <td>4.2</td>\n",
       "      <td>73.84</td>\n",
       "      <td>2.6</td>\n",
       "      <td>-0.80</td>\n",
       "      <td>9.6</td>\n",
       "    </tr>\n",
       "  </tbody>\n",
       "</table>\n",
       "</div>"
      ],
      "text/plain": [
       "    Country    Area    GDP  Inflation  Life.expect  Military  Pop.growth  \\\n",
       "0   Austria   83871  41600        3.5        79.91       0.8        0.03   \n",
       "1   Belgium   30528  37800        3.5        79.65       1.3        0.06   \n",
       "2  Bulgaria  110879  13800        4.2        73.84       2.6       -0.80   \n",
       "\n",
       "   Unemployment  \n",
       "0           4.2  \n",
       "1           7.2  \n",
       "2           9.6  "
      ]
     },
     "execution_count": 59,
     "metadata": {},
     "output_type": "execute_result"
    }
   ],
   "source": [
    "df= pd.read_csv (r'europe.csv')\n",
    "df.head(3)"
   ]
  },
  {
   "cell_type": "markdown",
   "metadata": {},
   "source": [
    "### Estandarizacion de los datos"
   ]
  },
  {
   "cell_type": "code",
   "execution_count": 60,
   "metadata": {},
   "outputs": [],
   "source": [
    "#Estandarizo los datos\n",
    "df_countries= df[\"Country\"]\n",
    "df_stand=  StandardScaler().fit_transform(df[[\"Area\", \"GDP\", \"Inflation\", \"Life.expect\", \"Military\", \"Pop.growth\", \"Unemployment\"]])\n",
    "df_stand= pd.DataFrame(df_stand, columns=df[[\"Area\", \"GDP\", \"Inflation\", \"Life.expect\", \"Military\", \"Pop.growth\", \"Unemployment\"]].columns)\n",
    "\n",
    "df_st= pd.DataFrame({'Country': df_countries, 'Area': df_stand[\"Area\"], 'GDP': df_stand[\"GDP\"],\n",
    "                     'Inflation': df_stand[\"Inflation\"], 'Life.expect': df_stand[\"Life.expect\"],\n",
    "                     'Military': df_stand[\"Military\"], 'Pop.growth': df_stand[\"Pop.growth\"],\n",
    "                     'Unemployment': df_stand[\"Unemployment\"]})"
   ]
  },
  {
   "cell_type": "code",
   "execution_count": 61,
   "metadata": {},
   "outputs": [
    {
     "data": {
      "text/html": [
       "<div>\n",
       "<style scoped>\n",
       "    .dataframe tbody tr th:only-of-type {\n",
       "        vertical-align: middle;\n",
       "    }\n",
       "\n",
       "    .dataframe tbody tr th {\n",
       "        vertical-align: top;\n",
       "    }\n",
       "\n",
       "    .dataframe thead th {\n",
       "        text-align: right;\n",
       "    }\n",
       "</style>\n",
       "<table border=\"1\" class=\"dataframe\">\n",
       "  <thead>\n",
       "    <tr style=\"text-align: right;\">\n",
       "      <th></th>\n",
       "      <th>Country</th>\n",
       "      <th>Area</th>\n",
       "      <th>GDP</th>\n",
       "      <th>Inflation</th>\n",
       "      <th>Life.expect</th>\n",
       "      <th>Military</th>\n",
       "      <th>Pop.growth</th>\n",
       "      <th>Unemployment</th>\n",
       "    </tr>\n",
       "  </thead>\n",
       "  <tbody>\n",
       "    <tr>\n",
       "      <th>0</th>\n",
       "      <td>Austria</td>\n",
       "      <td>-0.507835</td>\n",
       "      <td>0.683900</td>\n",
       "      <td>0.114447</td>\n",
       "      <td>0.570778</td>\n",
       "      <td>-1.024347</td>\n",
       "      <td>-0.176789</td>\n",
       "      <td>-1.245527</td>\n",
       "    </tr>\n",
       "    <tr>\n",
       "      <th>1</th>\n",
       "      <td>Belgium</td>\n",
       "      <td>-0.835987</td>\n",
       "      <td>0.417061</td>\n",
       "      <td>0.114447</td>\n",
       "      <td>0.487756</td>\n",
       "      <td>-0.388952</td>\n",
       "      <td>-0.115927</td>\n",
       "      <td>-0.592442</td>\n",
       "    </tr>\n",
       "    <tr>\n",
       "      <th>2</th>\n",
       "      <td>Bulgaria</td>\n",
       "      <td>-0.341689</td>\n",
       "      <td>-1.268238</td>\n",
       "      <td>0.624255</td>\n",
       "      <td>-1.367473</td>\n",
       "      <td>1.263074</td>\n",
       "      <td>-1.860631</td>\n",
       "      <td>-0.069973</td>\n",
       "    </tr>\n",
       "  </tbody>\n",
       "</table>\n",
       "</div>"
      ],
      "text/plain": [
       "    Country      Area       GDP  Inflation  Life.expect  Military  Pop.growth  \\\n",
       "0   Austria -0.507835  0.683900   0.114447     0.570778 -1.024347   -0.176789   \n",
       "1   Belgium -0.835987  0.417061   0.114447     0.487756 -0.388952   -0.115927   \n",
       "2  Bulgaria -0.341689 -1.268238   0.624255    -1.367473  1.263074   -1.860631   \n",
       "\n",
       "   Unemployment  \n",
       "0     -1.245527  \n",
       "1     -0.592442  \n",
       "2     -0.069973  "
      ]
     },
     "execution_count": 61,
     "metadata": {},
     "output_type": "execute_result"
    }
   ],
   "source": [
    "df_st.head(3)"
   ]
  },
  {
   "cell_type": "markdown",
   "metadata": {},
   "source": [
    "### Comparativa entre los datos de entrada y los estandarizados"
   ]
  },
  {
   "cell_type": "code",
   "execution_count": 62,
   "metadata": {},
   "outputs": [
    {
     "data": {
      "image/png": "[encoded data removed]",
      "text/plain": [
       "<Figure size 1080x360 with 1 Axes>"
      ]
     },
     "metadata": {
      "needs_background": "light"
     },
     "output_type": "display_data"
    }
   ],
   "source": [
    "import matplotlib.pyplot as plt\n",
    "fig1, ax1 = plt.subplots(figsize=(15,5))\n",
    "ax1 = df.boxplot(column=[\"Area\", \"GDP\", \"Inflation\", \"Life.expect\", \"Military\", \"Pop.growth\", \"Unemployment\"], grid=False)\n",
    "ax1.set_title('Data Original')\n",
    "plt.show()"
   ]
  },
  {
   "cell_type": "code",
   "execution_count": 63,
   "metadata": {},
   "outputs": [
    {
     "data": {
      "image/png": "[encoded data removed]",
      "text/plain": [
       "<Figure size 1080x360 with 1 Axes>"
      ]
     },
     "metadata": {
      "needs_background": "light"
     },
     "output_type": "display_data"
    }
   ],
   "source": [
    "import matplotlib.pyplot as plt\n",
    "fig1, ax1 = plt.subplots(figsize=(15,5))\n",
    "ax1 = df_st.boxplot(column=[\"Area\", \"GDP\", \"Inflation\", \"Life.expect\", \"Military\", \"Pop.growth\", \"Unemployment\"], grid=False)\n",
    "ax1.set_title('Data Estandarizada')\n",
    "plt.show()"
   ]
  },
  {
   "cell_type": "markdown",
   "metadata": {},
   "source": [
    "### Varianza de los componentes"
   ]
  },
  {
   "cell_type": "code",
   "execution_count": 110,
   "metadata": {},
   "outputs": [
    {
     "data": {
      "text/html": [
       "<div>\n",
       "<style scoped>\n",
       "    .dataframe tbody tr th:only-of-type {\n",
       "        vertical-align: middle;\n",
       "    }\n",
       "\n",
       "    .dataframe tbody tr th {\n",
       "        vertical-align: top;\n",
       "    }\n",
       "\n",
       "    .dataframe thead th {\n",
       "        text-align: right;\n",
       "    }\n",
       "</style>\n",
       "<table border=\"1\" class=\"dataframe\">\n",
       "  <thead>\n",
       "    <tr style=\"text-align: right;\">\n",
       "      <th></th>\n",
       "      <th>PC1</th>\n",
       "      <th>PC2</th>\n",
       "      <th>PC3</th>\n",
       "      <th>PC4</th>\n",
       "      <th>PC5</th>\n",
       "      <th>PC6</th>\n",
       "      <th>PC7</th>\n",
       "    </tr>\n",
       "  </thead>\n",
       "  <tbody>\n",
       "    <tr>\n",
       "      <th>Var(PC i)</th>\n",
       "      <td>0.461024</td>\n",
       "      <td>0.169589</td>\n",
       "      <td>0.151884</td>\n",
       "      <td>0.110051</td>\n",
       "      <td>0.065407</td>\n",
       "      <td>0.024096</td>\n",
       "      <td>0.017949</td>\n",
       "    </tr>\n",
       "  </tbody>\n",
       "</table>\n",
       "</div>"
      ],
      "text/plain": [
       "                PC1       PC2       PC3       PC4       PC5       PC6  \\\n",
       "Var(PC i)  0.461024  0.169589  0.151884  0.110051  0.065407  0.024096   \n",
       "\n",
       "                PC7  \n",
       "Var(PC i)  0.017949  "
      ]
     },
     "execution_count": 110,
     "metadata": {},
     "output_type": "execute_result"
    }
   ],
   "source": [
    "pca_out = PCA().fit(df_stand)\n",
    "\n",
    "# get the component variance\n",
    "# Proportion of Variance (from PC1 to PC7)\n",
    "#pd.DataFrame(pca_out.explained_variance_ratio_, columns=pc_list)\n",
    "\n",
    "variance = pca_out.explained_variance_ratio_\n",
    "num_pc = pca_out.n_features_\n",
    "pc_list = [\"PC\"+str(i) for i in list(range(1, num_pc+1))]\n",
    "dict_aux = dict(zip(pc_list, variance))\n",
    "#pd.DataFrame(list(dict_aux.items()), columns=['PC i', 'Var(PC i)'])\n",
    "var_table = pd.DataFrame([dict_aux])\n",
    "var_table.rename(index={0:'Var(PC i)'})"
   ]
  },
  {
   "cell_type": "code",
   "execution_count": 97,
   "metadata": {},
   "outputs": [
    {
     "data": {
      "text/plain": [
       "array([0.46102367, 0.63061273, 0.78249709, 0.89254794, 0.95795489,\n",
       "       0.98205116, 1.        ])"
      ]
     },
     "execution_count": 97,
     "metadata": {},
     "output_type": "execute_result"
    }
   ],
   "source": [
    "np.cumsum(pca_out.explained_variance_ratio_)"
   ]
  },
  {
   "cell_type": "markdown",
   "metadata": {},
   "source": [
    "### Cargas (loadings) de los componentes"
   ]
  },
  {
   "cell_type": "code",
   "execution_count": 66,
   "metadata": {},
   "outputs": [
    {
     "data": {
      "text/html": [
       "<div>\n",
       "<style scoped>\n",
       "    .dataframe tbody tr th:only-of-type {\n",
       "        vertical-align: middle;\n",
       "    }\n",
       "\n",
       "    .dataframe tbody tr th {\n",
       "        vertical-align: top;\n",
       "    }\n",
       "\n",
       "    .dataframe thead th {\n",
       "        text-align: right;\n",
       "    }\n",
       "</style>\n",
       "<table border=\"1\" class=\"dataframe\">\n",
       "  <thead>\n",
       "    <tr style=\"text-align: right;\">\n",
       "      <th></th>\n",
       "      <th>PC1</th>\n",
       "      <th>PC2</th>\n",
       "      <th>PC3</th>\n",
       "      <th>PC4</th>\n",
       "      <th>PC5</th>\n",
       "      <th>PC6</th>\n",
       "      <th>PC7</th>\n",
       "    </tr>\n",
       "    <tr>\n",
       "      <th>variable</th>\n",
       "      <th></th>\n",
       "      <th></th>\n",
       "      <th></th>\n",
       "      <th></th>\n",
       "      <th></th>\n",
       "      <th></th>\n",
       "      <th></th>\n",
       "    </tr>\n",
       "  </thead>\n",
       "  <tbody>\n",
       "    <tr>\n",
       "      <th>Area</th>\n",
       "      <td>0.124874</td>\n",
       "      <td>-0.172872</td>\n",
       "      <td>0.898297</td>\n",
       "      <td>0.044850</td>\n",
       "      <td>-0.324017</td>\n",
       "      <td>0.190118</td>\n",
       "      <td>0.066643</td>\n",
       "    </tr>\n",
       "    <tr>\n",
       "      <th>GDP</th>\n",
       "      <td>-0.500506</td>\n",
       "      <td>-0.130140</td>\n",
       "      <td>0.083956</td>\n",
       "      <td>-0.084255</td>\n",
       "      <td>0.390632</td>\n",
       "      <td>0.638657</td>\n",
       "      <td>-0.397408</td>\n",
       "    </tr>\n",
       "    <tr>\n",
       "      <th>Inflation</th>\n",
       "      <td>0.406518</td>\n",
       "      <td>-0.369657</td>\n",
       "      <td>0.198195</td>\n",
       "      <td>0.164686</td>\n",
       "      <td>0.689501</td>\n",
       "      <td>-0.323867</td>\n",
       "      <td>-0.226700</td>\n",
       "    </tr>\n",
       "    <tr>\n",
       "      <th>Life.expect</th>\n",
       "      <td>-0.482873</td>\n",
       "      <td>0.265248</td>\n",
       "      <td>0.246082</td>\n",
       "      <td>0.026771</td>\n",
       "      <td>-0.101787</td>\n",
       "      <td>-0.606434</td>\n",
       "      <td>-0.507031</td>\n",
       "    </tr>\n",
       "    <tr>\n",
       "      <th>Military</th>\n",
       "      <td>0.188112</td>\n",
       "      <td>0.658267</td>\n",
       "      <td>0.243679</td>\n",
       "      <td>-0.562375</td>\n",
       "      <td>0.368148</td>\n",
       "      <td>0.035596</td>\n",
       "      <td>0.137310</td>\n",
       "    </tr>\n",
       "    <tr>\n",
       "      <th>Pop.growth</th>\n",
       "      <td>-0.475704</td>\n",
       "      <td>0.082622</td>\n",
       "      <td>0.163697</td>\n",
       "      <td>0.392463</td>\n",
       "      <td>0.347868</td>\n",
       "      <td>-0.120856</td>\n",
       "      <td>0.671147</td>\n",
       "    </tr>\n",
       "    <tr>\n",
       "      <th>Unemployment</th>\n",
       "      <td>0.271656</td>\n",
       "      <td>0.553204</td>\n",
       "      <td>0.000500</td>\n",
       "      <td>0.701968</td>\n",
       "      <td>0.010159</td>\n",
       "      <td>0.259705</td>\n",
       "      <td>-0.244662</td>\n",
       "    </tr>\n",
       "  </tbody>\n",
       "</table>\n",
       "</div>"
      ],
      "text/plain": [
       "                   PC1       PC2       PC3       PC4       PC5       PC6  \\\n",
       "variable                                                                   \n",
       "Area          0.124874 -0.172872  0.898297  0.044850 -0.324017  0.190118   \n",
       "GDP          -0.500506 -0.130140  0.083956 -0.084255  0.390632  0.638657   \n",
       "Inflation     0.406518 -0.369657  0.198195  0.164686  0.689501 -0.323867   \n",
       "Life.expect  -0.482873  0.265248  0.246082  0.026771 -0.101787 -0.606434   \n",
       "Military      0.188112  0.658267  0.243679 -0.562375  0.368148  0.035596   \n",
       "Pop.growth   -0.475704  0.082622  0.163697  0.392463  0.347868 -0.120856   \n",
       "Unemployment  0.271656  0.553204  0.000500  0.701968  0.010159  0.259705   \n",
       "\n",
       "                   PC7  \n",
       "variable                \n",
       "Area          0.066643  \n",
       "GDP          -0.397408  \n",
       "Inflation    -0.226700  \n",
       "Life.expect  -0.507031  \n",
       "Military      0.137310  \n",
       "Pop.growth    0.671147  \n",
       "Unemployment -0.244662  "
      ]
     },
     "execution_count": 66,
     "metadata": {},
     "output_type": "execute_result"
    }
   ],
   "source": [
    "loadings = pca_out.components_\n",
    "num_pc = pca_out.n_features_\n",
    "pc_list = [\"PC\"+str(i) for i in list(range(1, num_pc+1))]\n",
    "loadings_df = pd.DataFrame.from_dict(dict(zip(pc_list, loadings)))\n",
    "loadings_df['variable'] = df_stand.columns.values\n",
    "loadings_df = loadings_df.set_index('variable')\n",
    "loadings_df"
   ]
  },
  {
   "cell_type": "code",
   "execution_count": null,
   "metadata": {},
   "outputs": [],
   "source": []
  },
  {
   "cell_type": "markdown",
   "metadata": {},
   "source": [
    "#### Autovalores"
   ]
  },
  {
   "cell_type": "code",
   "execution_count": 67,
   "metadata": {},
   "outputs": [
    {
     "data": {
      "text/plain": [
       "array([3.34669033, 1.23109094, 1.10256796, 0.79888768, 0.47480597,\n",
       "       0.17492107, 0.13029529])"
      ]
     },
     "execution_count": 67,
     "metadata": {},
     "output_type": "execute_result"
    }
   ],
   "source": [
    "# get eigenvalues (variance explained by each PC)  \n",
    "pca_out.explained_variance_"
   ]
  },
  {
   "cell_type": "markdown",
   "metadata": {},
   "source": []
  },
  {
   "cell_type": "code",
   "execution_count": 68,
   "metadata": {},
   "outputs": [
    {
     "data": {
      "text/plain": [
       "array([3.34669033, 1.23109094, 1.10256796, 0.79888768, 0.47480597,\n",
       "       0.17492107, 0.13029529])"
      ]
     },
     "execution_count": 68,
     "metadata": {},
     "output_type": "execute_result"
    }
   ],
   "source": [
    "# get eigenvalues (variance explained by each PC)  \n",
    "pca_out.explained_variance_"
   ]
  },
  {
   "cell_type": "code",
   "execution_count": null,
   "metadata": {},
   "outputs": [],
   "source": []
  },
  {
   "cell_type": "code",
   "execution_count": 69,
   "metadata": {},
   "outputs": [],
   "source": [
    "# get PC scores\n",
    "pca_scores = PCA().fit_transform(df_stand)\n",
    "\n",
    "# get 2D biplot\n",
    "cluster.biplot(cscore=pca_scores, loadings=loadings, labels=df_stand.columns.values,\n",
    "               var1=round(pca_out.explained_variance_ratio_[0]*100, 2),\n",
    "               var2=round(pca_out.explained_variance_ratio_[1]*100, 2))"
   ]
  },
  {
   "cell_type": "code",
   "execution_count": null,
   "metadata": {},
   "outputs": [],
   "source": []
  },
  {
   "cell_type": "code",
   "execution_count": null,
   "metadata": {},
   "outputs": [],
   "source": []
  },
  {
   "cell_type": "code",
   "execution_count": null,
   "metadata": {},
   "outputs": [],
   "source": []
  },
  {
   "cell_type": "code",
   "execution_count": null,
   "metadata": {},
   "outputs": [],
   "source": []
  },
  {
   "cell_type": "code",
   "execution_count": null,
   "metadata": {},
   "outputs": [],
   "source": []
  },
  {
   "cell_type": "code",
   "execution_count": 70,
   "metadata": {},
   "outputs": [
    {
     "data": {
      "text/html": [
       "<div>\n",
       "<style scoped>\n",
       "    .dataframe tbody tr th:only-of-type {\n",
       "        vertical-align: middle;\n",
       "    }\n",
       "\n",
       "    .dataframe tbody tr th {\n",
       "        vertical-align: top;\n",
       "    }\n",
       "\n",
       "    .dataframe thead th {\n",
       "        text-align: right;\n",
       "    }\n",
       "</style>\n",
       "<table border=\"1\" class=\"dataframe\">\n",
       "  <thead>\n",
       "    <tr style=\"text-align: right;\">\n",
       "      <th></th>\n",
       "      <th>Area</th>\n",
       "      <th>GDP</th>\n",
       "      <th>Inflation</th>\n",
       "      <th>Life.expect</th>\n",
       "      <th>Military</th>\n",
       "      <th>Pop.growth</th>\n",
       "      <th>Unemployment</th>\n",
       "    </tr>\n",
       "  </thead>\n",
       "  <tbody>\n",
       "    <tr>\n",
       "      <th>0</th>\n",
       "      <td>83871</td>\n",
       "      <td>41600</td>\n",
       "      <td>3.5</td>\n",
       "      <td>79.91</td>\n",
       "      <td>0.8</td>\n",
       "      <td>0.03</td>\n",
       "      <td>4.2</td>\n",
       "    </tr>\n",
       "    <tr>\n",
       "      <th>1</th>\n",
       "      <td>30528</td>\n",
       "      <td>37800</td>\n",
       "      <td>3.5</td>\n",
       "      <td>79.65</td>\n",
       "      <td>1.3</td>\n",
       "      <td>0.06</td>\n",
       "      <td>7.2</td>\n",
       "    </tr>\n",
       "    <tr>\n",
       "      <th>2</th>\n",
       "      <td>110879</td>\n",
       "      <td>13800</td>\n",
       "      <td>4.2</td>\n",
       "      <td>73.84</td>\n",
       "      <td>2.6</td>\n",
       "      <td>-0.80</td>\n",
       "      <td>9.6</td>\n",
       "    </tr>\n",
       "  </tbody>\n",
       "</table>\n",
       "</div>"
      ],
      "text/plain": [
       "     Area    GDP  Inflation  Life.expect  Military  Pop.growth  Unemployment\n",
       "0   83871  41600        3.5        79.91       0.8        0.03           4.2\n",
       "1   30528  37800        3.5        79.65       1.3        0.06           7.2\n",
       "2  110879  13800        4.2        73.84       2.6       -0.80           9.6"
      ]
     },
     "execution_count": 70,
     "metadata": {},
     "output_type": "execute_result"
    }
   ],
   "source": [
    "X = df.iloc[:,1:8]\n",
    "target = df['Country'].to_numpy()\n",
    "X.head(3)"
   ]
  },
  {
   "cell_type": "code",
   "execution_count": 71,
   "metadata": {},
   "outputs": [
    {
     "data": {
      "text/plain": [
       "array([[ 1.24873902e-01, -5.00505858e-01,  4.06518155e-01,\n",
       "        -4.82873325e-01,  1.88111616e-01, -4.75703554e-01,\n",
       "         2.71655820e-01],\n",
       "       [-1.72872202e-01, -1.30139553e-01, -3.69657243e-01,\n",
       "         2.65247797e-01,  6.58266888e-01,  8.26219831e-02,\n",
       "         5.53203705e-01],\n",
       "       [ 8.98296740e-01,  8.39557607e-02,  1.98194675e-01,\n",
       "         2.46082460e-01,  2.43679433e-01,  1.63697207e-01,\n",
       "         5.00135736e-04],\n",
       "       [ 4.48503976e-02, -8.42554739e-02,  1.64685649e-01,\n",
       "         2.67714373e-02, -5.62374796e-01,  3.92462767e-01,\n",
       "         7.01967912e-01],\n",
       "       [-3.24016926e-01,  3.90632444e-01,  6.89500539e-01,\n",
       "        -1.01786561e-01,  3.68147581e-01,  3.47867772e-01,\n",
       "         1.01587422e-02],\n",
       "       [ 1.90118083e-01,  6.38657073e-01, -3.23867263e-01,\n",
       "        -6.06434187e-01,  3.55960680e-02, -1.20855625e-01,\n",
       "         2.59704965e-01],\n",
       "       [ 6.66428246e-02, -3.97408435e-01, -2.26700295e-01,\n",
       "        -5.07031305e-01,  1.37309597e-01,  6.71146682e-01,\n",
       "        -2.44662434e-01]])"
      ]
     },
     "execution_count": 71,
     "metadata": {},
     "output_type": "execute_result"
    }
   ],
   "source": [
    "X_st =  StandardScaler().fit_transform(X)\n",
    "pca_out = PCA().fit(X_st)\n",
    "\n",
    "# component loadings\n",
    "loadings = pca_out.components_\n",
    "loadings"
   ]
  },
  {
   "cell_type": "code",
   "execution_count": 72,
   "metadata": {},
   "outputs": [
    {
     "data": {
      "text/plain": [
       "array([3.34669033, 1.23109094, 1.10256796, 0.79888768, 0.47480597,\n",
       "       0.17492107, 0.13029529])"
      ]
     },
     "execution_count": 72,
     "metadata": {},
     "output_type": "execute_result"
    }
   ],
   "source": [
    "pca_out.explained_variance_"
   ]
  },
  {
   "cell_type": "code",
   "execution_count": 73,
   "metadata": {},
   "outputs": [],
   "source": [
    "pca_scores = PCA().fit_transform(X_st)\n",
    "cluster.biplot(cscore=pca_scores, loadings=loadings, labels=X.columns.values, var1=round(pca_out.explained_variance_ratio_[0]*100, 2),\n",
    "    var2=round(pca_out.explained_variance_ratio_[1]*100, 2))"
   ]
  },
  {
   "cell_type": "markdown",
   "metadata": {},
   "source": [
    "### Biplot PCA"
   ]
  },
  {
   "cell_type": "code",
   "execution_count": 74,
   "metadata": {},
   "outputs": [
    {
     "data": {
      "image/png": "[encoded data removed]",
      "text/plain": [
       "<Figure size 1080x1440 with 1 Axes>"
      ]
     },
     "metadata": {
      "needs_background": "light"
     },
     "output_type": "display_data"
    }
   ],
   "source": [
    "import matplotlib.image as mpimg\n",
    "img = mpimg.imread('biplot_2d.png')\n",
    "imgplot = plt.imshow(img)\n",
    "plt.rcParams['figure.figsize'] = (15, 20)\n",
    "plt.show()"
   ]
  },
  {
   "cell_type": "code",
   "execution_count": null,
   "metadata": {},
   "outputs": [],
   "source": []
  }
 ],
 "metadata": {
  "interpreter": {
   "hash": "52c95d02f1bfe7c59da35d3ff8fa76f7d162251a8bf0068369a0a87df4b3e5e7"
  },
  "kernelspec": {
   "display_name": "Python 3.10.4 64-bit",
   "language": "python",
   "name": "python3"
  },
  "language_info": {
   "codemirror_mode": {
    "name": "ipython",
    "version": 3
   },
   "file_extension": ".py",
   "mimetype": "text/x-python",
   "name": "python",
   "nbconvert_exporter": "python",
   "pygments_lexer": "ipython3",
   "version": "3.10.4"
  }
 },
 "nbformat": 4,
 "nbformat_minor": 2
}
